{
 "cells": [
  {
   "cell_type": "code",
   "execution_count": 1,
   "id": "3e98e5dc",
   "metadata": {},
   "outputs": [],
   "source": [
    "import sys\n",
    "sys.path.append(\"../\")\n",
    "from src.data.common import DownloadedRepositories, load_repositories_json\n",
    "\n",
    "from pathlib import Path\n",
    "\n",
    "import json\n",
    "import tqdm\n",
    "from src.utils.compare import *\n",
    "\n",
    "from joblib import Parallel, delayed\n",
    "import seaborn as sns"
   ]
  },
  {
   "cell_type": "code",
   "execution_count": null,
   "id": "55b03de1",
   "metadata": {},
   "outputs": [],
   "source": []
  },
  {
   "cell_type": "code",
   "execution_count": null,
   "id": "32e44abf",
   "metadata": {},
   "outputs": [],
   "source": []
  },
  {
   "cell_type": "code",
   "execution_count": 2,
   "id": "4dfefb3d",
   "metadata": {},
   "outputs": [
    {
     "name": "stderr",
     "output_type": "stream",
     "text": [
      "Loading info about cloned repos from '../data/repositories_download_status.json'...\n"
     ]
    }
   ],
   "source": [
    "repos = load_repositories_json(Path('../data/repositories_download_status.json'))"
   ]
  },
  {
   "cell_type": "code",
   "execution_count": 3,
   "id": "edfadf1f",
   "metadata": {},
   "outputs": [],
   "source": [
    "with open(\"../data/external/DevGPT/snapshot_20230914/20230914_083202_commit_sharings.json\") as f:\n",
    "    data = json.load(f)"
   ]
  },
  {
   "cell_type": "code",
   "execution_count": 4,
   "id": "7cf8e2ef",
   "metadata": {},
   "outputs": [
    {
     "name": "stderr",
     "output_type": "stream",
     "text": [
      "Loading info about cloned repos from '../data/repositories_download_status.json'...\n",
      "100%|███████████████████████████████████████████████████████████████████████████████████████████████████████████████████████████████████████████████████████████████████████████████████████████████████████████████████████████████████████████| 571/571 [00:06<00:00, 85.77it/s]\n"
     ]
    }
   ],
   "source": [
    "all_repos = DownloadedRepositories(Path('../data/repositories_download_status.json'))\n",
    "\n",
    "\n",
    "# get url\n",
    "diffs = {}\n",
    "bad_url = []\n",
    "for source in tqdm.tqdm(data['Sources']):\n",
    "\n",
    "    try:\n",
    "        R = source['RepoName']\n",
    "        S  = source['Sha']\n",
    "        the_repo = all_repos.repo(R)\n",
    "        curr_diff = the_repo.unidiff(S) \n",
    "        diffs[(R,S)] = curr_diff\n",
    "    except:\n",
    "        bad_url.append((R,S))"
   ]
  },
  {
   "cell_type": "code",
   "execution_count": 5,
   "id": "04e67de9",
   "metadata": {},
   "outputs": [],
   "source": [
    "def run_joblib(conv, compare):\n",
    "    \n",
    "    if 'Conversations' not in conv:\n",
    "        return {}\n",
    "    \n",
    "    R = source['RepoName']\n",
    "    S  = source['Sha']\n",
    "\n",
    "    if ((R,S) in diffs):\n",
    "        return diff_to_conversation(diffs[(R,S)], conv, compare=compare)\n",
    "    \n",
    "    return {}"
   ]
  },
  {
   "cell_type": "code",
   "execution_count": 6,
   "id": "b39f4d92",
   "metadata": {},
   "outputs": [
    {
     "name": "stderr",
     "output_type": "stream",
     "text": [
      "100%|████████████████████████████████████████████████████████████████████████████████████████████████████████████████████████████████████████████████████████████████████████████████████████████████████████████████████████████████████████| 571/571 [00:00<00:00, 34041.38it/s]\n"
     ]
    }
   ],
   "source": [
    "ret = Parallel(n_jobs=600)(delayed(run_joblib)(conv, compare=CompareLines) for source in tqdm.tqdm(data['Sources']) for conv in source['ChatgptSharing'])\n"
   ]
  },
  {
   "cell_type": "code",
   "execution_count": 7,
   "id": "61300c15",
   "metadata": {},
   "outputs": [],
   "source": [
    "# for source in tqdm.tqdm(data['Sources']):\n",
    "#     for conv in source['ChatgptSharing']:\n",
    "#         print(run_joblib(conv))\n",
    "#         break"
   ]
  },
  {
   "cell_type": "code",
   "execution_count": 8,
   "id": "46927991",
   "metadata": {},
   "outputs": [],
   "source": [
    "df = []\n",
    "for r in ret:\n",
    "    if 'ALL' in r:\n",
    "        df.append({'cov' : r['ALL']['coverage'], 'all': r['ALL']['all']})"
   ]
  },
  {
   "cell_type": "code",
   "execution_count": 9,
   "id": "f2df5b30",
   "metadata": {},
   "outputs": [],
   "source": [
    "import pandas as pd"
   ]
  },
  {
   "cell_type": "code",
   "execution_count": 10,
   "id": "a814d706",
   "metadata": {},
   "outputs": [],
   "source": [
    "df = pd.DataFrame(df)"
   ]
  },
  {
   "cell_type": "code",
   "execution_count": 11,
   "id": "9eff6189",
   "metadata": {},
   "outputs": [],
   "source": [
    "df['%'] = df['cov']/df['all']"
   ]
  },
  {
   "cell_type": "code",
   "execution_count": 12,
   "id": "022eab33",
   "metadata": {},
   "outputs": [],
   "source": [
    "import seaborn as sns"
   ]
  },
  {
   "cell_type": "code",
   "execution_count": 13,
   "id": "1f47d017",
   "metadata": {},
   "outputs": [
    {
     "data": {
      "text/plain": [
       "<AxesSubplot: xlabel='%', ylabel='Count'>"
      ]
     },
     "execution_count": 13,
     "metadata": {},
     "output_type": "execute_result"
    },
    {
     "data": {
      "image/png": "[encoded data removed]",
      "text/plain": [
       "<Figure size 640x480 with 1 Axes>"
      ]
     },
     "metadata": {},
     "output_type": "display_data"
    }
   ],
   "source": [
    "sns.histplot(df, x='%')"
   ]
  },
  {
   "cell_type": "code",
   "execution_count": null,
   "id": "98ce23e8",
   "metadata": {},
   "outputs": [],
   "source": []
  },
  {
   "cell_type": "code",
   "execution_count": null,
   "id": "0f55d3b1",
   "metadata": {},
   "outputs": [],
   "source": []
  },
  {
   "cell_type": "code",
   "execution_count": null,
   "id": "5b2317ad",
   "metadata": {},
   "outputs": [],
   "source": []
  },
  {
   "cell_type": "code",
   "execution_count": null,
   "id": "12a58ecf",
   "metadata": {},
   "outputs": [],
   "source": []
  }
 ],
 "metadata": {
  "kernelspec": {
   "display_name": "Python 3 (ipykernel)",
   "language": "python",
   "name": "python3"
  },
  "language_info": {
   "codemirror_mode": {
    "name": "ipython",
    "version": 3
   },
   "file_extension": ".py",
   "mimetype": "text/x-python",
   "name": "python",
   "nbconvert_exporter": "python",
   "pygments_lexer": "ipython3",
   "version": "3.11.6"
  }
 },
 "nbformat": 4,
 "nbformat_minor": 5
}
