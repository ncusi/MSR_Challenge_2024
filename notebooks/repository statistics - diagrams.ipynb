{
 "cells": [
  {
   "cell_type": "code",
   "execution_count": 1,
   "id": "3586c7e5",
   "metadata": {},
   "outputs": [],
   "source": [
    "import json"
   ]
  },
  {
   "cell_type": "code",
   "execution_count": 2,
   "id": "c5b7f969",
   "metadata": {},
   "outputs": [],
   "source": [
    "with open('repository_statistics_20231012_commit.json') as commit_file:\n",
    "    repository_statistics_commit = json.load(commit_file)"
   ]
  },
  {
   "cell_type": "code",
   "execution_count": 3,
   "id": "9dd46123",
   "metadata": {},
   "outputs": [],
   "source": [
    "with open('repository_statistics_20231012_pr.json') as pr_file:\n",
    "    repository_statistics_pr = json.load(pr_file)"
   ]
  },
  {
   "cell_type": "code",
   "execution_count": 4,
   "id": "49e87e23",
   "metadata": {},
   "outputs": [],
   "source": [
    "import pandas as pd"
   ]
  },
  {
   "cell_type": "code",
   "execution_count": 5,
   "id": "d6bebee6",
   "metadata": {},
   "outputs": [],
   "source": [
    "commit_df = pd.DataFrame.from_dict(repository_statistics_commit, orient='index')"
   ]
  },
  {
   "cell_type": "code",
   "execution_count": 6,
   "id": "a02c8a4b",
   "metadata": {},
   "outputs": [],
   "source": [
    "pr_df = pd.DataFrame.from_dict(repository_statistics_pr, orient='index')"
   ]
  },
  {
   "cell_type": "code",
   "execution_count": 7,
   "id": "341a2c13",
   "metadata": {},
   "outputs": [],
   "source": [
    "all_df = pd.concat([commit_df, pr_df])"
   ]
  },
  {
   "cell_type": "code",
   "execution_count": 8,
   "id": "d952dc4c",
   "metadata": {},
   "outputs": [
    {
     "data": {
      "text/plain": [
       "(286, 2)"
      ]
     },
     "execution_count": 8,
     "metadata": {},
     "output_type": "execute_result"
    }
   ],
   "source": [
    "all_df.shape"
   ]
  },
  {
   "cell_type": "code",
   "execution_count": 9,
   "id": "15318c24",
   "metadata": {},
   "outputs": [],
   "source": [
    "tmp = all_df.reset_index()"
   ]
  },
  {
   "cell_type": "code",
   "execution_count": 10,
   "id": "7b0266bd",
   "metadata": {},
   "outputs": [
    {
     "data": {
      "text/html": [
       "<div>\n",
       "<style scoped>\n",
       "    .dataframe tbody tr th:only-of-type {\n",
       "        vertical-align: middle;\n",
       "    }\n",
       "\n",
       "    .dataframe tbody tr th {\n",
       "        vertical-align: top;\n",
       "    }\n",
       "\n",
       "    .dataframe thead th {\n",
       "        text-align: right;\n",
       "    }\n",
       "</style>\n",
       "<table border=\"1\" class=\"dataframe\">\n",
       "  <thead>\n",
       "    <tr style=\"text-align: right;\">\n",
       "      <th></th>\n",
       "      <th>index</th>\n",
       "      <th>author_number</th>\n",
       "      <th>commit_number</th>\n",
       "    </tr>\n",
       "  </thead>\n",
       "  <tbody>\n",
       "    <tr>\n",
       "      <th>0</th>\n",
       "      <td>grnpin/textbox</td>\n",
       "      <td>3</td>\n",
       "      <td>84</td>\n",
       "    </tr>\n",
       "    <tr>\n",
       "      <th>1</th>\n",
       "      <td>bh679/MindfulAI2.0</td>\n",
       "      <td>1</td>\n",
       "      <td>87</td>\n",
       "    </tr>\n",
       "    <tr>\n",
       "      <th>2</th>\n",
       "      <td>4lejandrito/fetchbook</td>\n",
       "      <td>1</td>\n",
       "      <td>83</td>\n",
       "    </tr>\n",
       "    <tr>\n",
       "      <th>3</th>\n",
       "      <td>changchiyou/Github-Action-Test</td>\n",
       "      <td>1</td>\n",
       "      <td>114</td>\n",
       "    </tr>\n",
       "    <tr>\n",
       "      <th>4</th>\n",
       "      <td>waylon620/GPT-tutor</td>\n",
       "      <td>7</td>\n",
       "      <td>85</td>\n",
       "    </tr>\n",
       "    <tr>\n",
       "      <th>...</th>\n",
       "      <td>...</td>\n",
       "      <td>...</td>\n",
       "      <td>...</td>\n",
       "    </tr>\n",
       "    <tr>\n",
       "      <th>281</th>\n",
       "      <td>simonw/llm</td>\n",
       "      <td>16</td>\n",
       "      <td>441</td>\n",
       "    </tr>\n",
       "    <tr>\n",
       "      <th>282</th>\n",
       "      <td>decred/dcrdex</td>\n",
       "      <td>46</td>\n",
       "      <td>1776</td>\n",
       "    </tr>\n",
       "    <tr>\n",
       "      <th>283</th>\n",
       "      <td>rust-lang/rfcs</td>\n",
       "      <td>415</td>\n",
       "      <td>6091</td>\n",
       "    </tr>\n",
       "    <tr>\n",
       "      <th>284</th>\n",
       "      <td>MatrixAI/Polykey</td>\n",
       "      <td>20</td>\n",
       "      <td>1602</td>\n",
       "    </tr>\n",
       "    <tr>\n",
       "      <th>285</th>\n",
       "      <td>mindee/doctr</td>\n",
       "      <td>48</td>\n",
       "      <td>774</td>\n",
       "    </tr>\n",
       "  </tbody>\n",
       "</table>\n",
       "<p>286 rows × 3 columns</p>\n",
       "</div>"
      ],
      "text/plain": [
       "                              index  author_number  commit_number\n",
       "0                    grnpin/textbox              3             84\n",
       "1                bh679/MindfulAI2.0              1             87\n",
       "2             4lejandrito/fetchbook              1             83\n",
       "3    changchiyou/Github-Action-Test              1            114\n",
       "4               waylon620/GPT-tutor              7             85\n",
       "..                              ...            ...            ...\n",
       "281                      simonw/llm             16            441\n",
       "282                   decred/dcrdex             46           1776\n",
       "283                  rust-lang/rfcs            415           6091\n",
       "284                MatrixAI/Polykey             20           1602\n",
       "285                    mindee/doctr             48            774\n",
       "\n",
       "[286 rows x 3 columns]"
      ]
     },
     "execution_count": 10,
     "metadata": {},
     "output_type": "execute_result"
    }
   ],
   "source": [
    "tmp"
   ]
  },
  {
   "cell_type": "code",
   "execution_count": 9,
   "id": "2086421b",
   "metadata": {},
   "outputs": [],
   "source": [
    "index = all_df.index.drop_duplicates(keep='first')"
   ]
  },
  {
   "cell_type": "code",
   "execution_count": 10,
   "id": "00681fdb",
   "metadata": {},
   "outputs": [],
   "source": [
    "all_df = all_df.loc[index]"
   ]
  },
  {
   "cell_type": "code",
   "execution_count": 11,
   "id": "7e5282d9",
   "metadata": {},
   "outputs": [],
   "source": [
    "pr_repositories = pr_df.index.to_list()"
   ]
  },
  {
   "cell_type": "code",
   "execution_count": 12,
   "id": "45b2b04f",
   "metadata": {},
   "outputs": [],
   "source": [
    "commit_repositories = commit_df.index.to_list()"
   ]
  },
  {
   "cell_type": "code",
   "execution_count": 15,
   "id": "11524d0a",
   "metadata": {},
   "outputs": [
    {
     "data": {
      "text/plain": [
       "210"
      ]
     },
     "execution_count": 15,
     "metadata": {},
     "output_type": "execute_result"
    }
   ],
   "source": [
    "len(pr_repositories)"
   ]
  },
  {
   "cell_type": "code",
   "execution_count": 16,
   "id": "5b1c6889",
   "metadata": {},
   "outputs": [
    {
     "data": {
      "text/plain": [
       "76"
      ]
     },
     "execution_count": 16,
     "metadata": {},
     "output_type": "execute_result"
    }
   ],
   "source": [
    "len(commit_repositories)"
   ]
  },
  {
   "cell_type": "code",
   "execution_count": 17,
   "id": "c32a7a7b",
   "metadata": {},
   "outputs": [
    {
     "data": {
      "text/plain": [
       "286"
      ]
     },
     "execution_count": 17,
     "metadata": {},
     "output_type": "execute_result"
    }
   ],
   "source": [
    "len(all_df.index.to_list())"
   ]
  },
  {
   "cell_type": "code",
   "execution_count": 18,
   "id": "e6cfb7fc",
   "metadata": {},
   "outputs": [],
   "source": [
    "both = set(pr_repositories).intersection(set(commit_repositories))"
   ]
  },
  {
   "cell_type": "code",
   "execution_count": 19,
   "id": "c3f4eac2",
   "metadata": {},
   "outputs": [
    {
     "data": {
      "text/plain": [
       "['TurboWarp/extensions',\n",
       " 'poki/netlib',\n",
       " 'lightward/mechanic-tasks',\n",
       " 'hoshotakamoto/banzukesurfing',\n",
       " 'dantebarbieri/pi-picture-frame',\n",
       " 'brennoflavio/nextcloud-alexa',\n",
       " 'openai/evals',\n",
       " 'tisztamo/Junior',\n",
       " 'PrivateBin/PrivateBin',\n",
       " 'temporalio/temporal',\n",
       " 'labd/terraform-provider-storyblok']"
      ]
     },
     "execution_count": 19,
     "metadata": {},
     "output_type": "execute_result"
    }
   ],
   "source": [
    "list(both)"
   ]
  },
  {
   "cell_type": "code",
   "execution_count": 20,
   "id": "054a9918",
   "metadata": {},
   "outputs": [
    {
     "data": {
      "text/html": [
       "<div>\n",
       "<style scoped>\n",
       "    .dataframe tbody tr th:only-of-type {\n",
       "        vertical-align: middle;\n",
       "    }\n",
       "\n",
       "    .dataframe tbody tr th {\n",
       "        vertical-align: top;\n",
       "    }\n",
       "\n",
       "    .dataframe thead th {\n",
       "        text-align: right;\n",
       "    }\n",
       "</style>\n",
       "<table border=\"1\" class=\"dataframe\">\n",
       "  <thead>\n",
       "    <tr style=\"text-align: right;\">\n",
       "      <th></th>\n",
       "      <th>author_number</th>\n",
       "      <th>commit_number</th>\n",
       "    </tr>\n",
       "  </thead>\n",
       "  <tbody>\n",
       "    <tr>\n",
       "      <th>tisztamo/Junior</th>\n",
       "      <td>6</td>\n",
       "      <td>838</td>\n",
       "    </tr>\n",
       "    <tr>\n",
       "      <th>tisztamo/Junior</th>\n",
       "      <td>6</td>\n",
       "      <td>838</td>\n",
       "    </tr>\n",
       "  </tbody>\n",
       "</table>\n",
       "</div>"
      ],
      "text/plain": [
       "                 author_number  commit_number\n",
       "tisztamo/Junior              6            838\n",
       "tisztamo/Junior              6            838"
      ]
     },
     "execution_count": 20,
     "metadata": {},
     "output_type": "execute_result"
    }
   ],
   "source": [
    "all_df.loc['tisztamo/Junior']"
   ]
  },
  {
   "cell_type": "code",
   "execution_count": 30,
   "id": "f0125d7a",
   "metadata": {},
   "outputs": [],
   "source": [
    "all_df = all_df.reset_index()"
   ]
  },
  {
   "cell_type": "code",
   "execution_count": 31,
   "id": "c6320e6a",
   "metadata": {},
   "outputs": [
    {
     "data": {
      "text/html": [
       "<div>\n",
       "<style scoped>\n",
       "    .dataframe tbody tr th:only-of-type {\n",
       "        vertical-align: middle;\n",
       "    }\n",
       "\n",
       "    .dataframe tbody tr th {\n",
       "        vertical-align: top;\n",
       "    }\n",
       "\n",
       "    .dataframe thead th {\n",
       "        text-align: right;\n",
       "    }\n",
       "</style>\n",
       "<table border=\"1\" class=\"dataframe\">\n",
       "  <thead>\n",
       "    <tr style=\"text-align: right;\">\n",
       "      <th></th>\n",
       "      <th>index</th>\n",
       "      <th>author_number</th>\n",
       "      <th>commit_number</th>\n",
       "    </tr>\n",
       "  </thead>\n",
       "  <tbody>\n",
       "    <tr>\n",
       "      <th>31</th>\n",
       "      <td>tisztamo/Junior</td>\n",
       "      <td>6</td>\n",
       "      <td>838</td>\n",
       "    </tr>\n",
       "    <tr>\n",
       "      <th>111</th>\n",
       "      <td>tisztamo/Junior</td>\n",
       "      <td>6</td>\n",
       "      <td>838</td>\n",
       "    </tr>\n",
       "  </tbody>\n",
       "</table>\n",
       "</div>"
      ],
      "text/plain": [
       "               index  author_number  commit_number\n",
       "31   tisztamo/Junior              6            838\n",
       "111  tisztamo/Junior              6            838"
      ]
     },
     "execution_count": 31,
     "metadata": {},
     "output_type": "execute_result"
    }
   ],
   "source": [
    "all_df[all_df['index']=='tisztamo/Junior']"
   ]
  },
  {
   "cell_type": "code",
   "execution_count": 32,
   "id": "290b548b",
   "metadata": {},
   "outputs": [],
   "source": [
    "all_df = all_df.drop_duplicates()"
   ]
  },
  {
   "cell_type": "code",
   "execution_count": 33,
   "id": "5b8826b1",
   "metadata": {},
   "outputs": [
    {
     "data": {
      "text/plain": [
       "(275, 3)"
      ]
     },
     "execution_count": 33,
     "metadata": {},
     "output_type": "execute_result"
    }
   ],
   "source": [
    "all_df.shape"
   ]
  },
  {
   "cell_type": "code",
   "execution_count": 34,
   "id": "2e11efc9",
   "metadata": {},
   "outputs": [
    {
     "data": {
      "text/html": [
       "<div>\n",
       "<style scoped>\n",
       "    .dataframe tbody tr th:only-of-type {\n",
       "        vertical-align: middle;\n",
       "    }\n",
       "\n",
       "    .dataframe tbody tr th {\n",
       "        vertical-align: top;\n",
       "    }\n",
       "\n",
       "    .dataframe thead th {\n",
       "        text-align: right;\n",
       "    }\n",
       "</style>\n",
       "<table border=\"1\" class=\"dataframe\">\n",
       "  <thead>\n",
       "    <tr style=\"text-align: right;\">\n",
       "      <th></th>\n",
       "      <th>index</th>\n",
       "      <th>author_number</th>\n",
       "      <th>commit_number</th>\n",
       "    </tr>\n",
       "  </thead>\n",
       "  <tbody>\n",
       "    <tr>\n",
       "      <th>31</th>\n",
       "      <td>tisztamo/Junior</td>\n",
       "      <td>6</td>\n",
       "      <td>838</td>\n",
       "    </tr>\n",
       "  </tbody>\n",
       "</table>\n",
       "</div>"
      ],
      "text/plain": [
       "              index  author_number  commit_number\n",
       "31  tisztamo/Junior              6            838"
      ]
     },
     "execution_count": 34,
     "metadata": {},
     "output_type": "execute_result"
    }
   ],
   "source": [
    "all_df[all_df['index']=='tisztamo/Junior']"
   ]
  },
  {
   "cell_type": "code",
   "execution_count": 36,
   "id": "99b6c4e1",
   "metadata": {},
   "outputs": [],
   "source": [
    "all_df= all_df.set_index('index')"
   ]
  },
  {
   "cell_type": "code",
   "execution_count": 37,
   "id": "400073b1",
   "metadata": {},
   "outputs": [
    {
     "data": {
      "text/plain": [
       "(275, 2)"
      ]
     },
     "execution_count": 37,
     "metadata": {},
     "output_type": "execute_result"
    }
   ],
   "source": [
    "all_df.shape"
   ]
  },
  {
   "cell_type": "code",
   "execution_count": 38,
   "id": "31b726eb",
   "metadata": {},
   "outputs": [],
   "source": [
    "all_df['Source'] = 'both'"
   ]
  },
  {
   "cell_type": "code",
   "execution_count": 47,
   "id": "ae113f42",
   "metadata": {},
   "outputs": [],
   "source": [
    "all_df.loc[pr_repositories,'Source'] = 'pr'"
   ]
  },
  {
   "cell_type": "code",
   "execution_count": 52,
   "id": "77cbaa48",
   "metadata": {},
   "outputs": [],
   "source": [
    "all_df.loc[commit_repositories,'Source'] = 'c'"
   ]
  },
  {
   "cell_type": "code",
   "execution_count": 55,
   "id": "4a4b82e9",
   "metadata": {},
   "outputs": [],
   "source": [
    "all_df.loc[list(both),'Source'] = 'b'"
   ]
  },
  {
   "cell_type": "code",
   "execution_count": 56,
   "id": "4cf14769",
   "metadata": {},
   "outputs": [
    {
     "data": {
      "text/plain": [
       "(65, 3)"
      ]
     },
     "execution_count": 56,
     "metadata": {},
     "output_type": "execute_result"
    }
   ],
   "source": [
    "all_df[all_df['Source']=='c'].shape"
   ]
  },
  {
   "cell_type": "code",
   "execution_count": 57,
   "id": "e5e4623c",
   "metadata": {},
   "outputs": [
    {
     "data": {
      "text/plain": [
       "(199, 3)"
      ]
     },
     "execution_count": 57,
     "metadata": {},
     "output_type": "execute_result"
    }
   ],
   "source": [
    "all_df[all_df['Source']=='pr'].shape"
   ]
  },
  {
   "cell_type": "code",
   "execution_count": 58,
   "id": "18c64f87",
   "metadata": {},
   "outputs": [
    {
     "data": {
      "text/plain": [
       "(11, 3)"
      ]
     },
     "execution_count": 58,
     "metadata": {},
     "output_type": "execute_result"
    }
   ],
   "source": [
    "all_df[all_df['Source']=='b'].shape"
   ]
  },
  {
   "cell_type": "code",
   "execution_count": 59,
   "id": "55d72a8f",
   "metadata": {},
   "outputs": [
    {
     "data": {
      "text/plain": [
       "(210, 3)"
      ]
     },
     "execution_count": 59,
     "metadata": {},
     "output_type": "execute_result"
    }
   ],
   "source": [
    "all_df.loc[pr_repositories].shape"
   ]
  },
  {
   "cell_type": "code",
   "execution_count": 60,
   "id": "f87759cb",
   "metadata": {},
   "outputs": [
    {
     "data": {
      "text/plain": [
       "index\n",
       "validatorjs/validator.js                     pr\n",
       "magnifiq/js-practice-vention                 pr\n",
       "FlorianWoelki/obsidian-symbols-prettifier    pr\n",
       "asaskevich/govalidator                       pr\n",
       "rom-py/rompy                                 pr\n",
       "                                             ..\n",
       "simonw/llm                                   pr\n",
       "decred/dcrdex                                pr\n",
       "rust-lang/rfcs                               pr\n",
       "MatrixAI/Polykey                             pr\n",
       "mindee/doctr                                 pr\n",
       "Name: Source, Length: 210, dtype: object"
      ]
     },
     "execution_count": 60,
     "metadata": {},
     "output_type": "execute_result"
    }
   ],
   "source": [
    "all_df.loc[pr_repositories]['Source']"
   ]
  },
  {
   "cell_type": "code",
   "execution_count": 61,
   "id": "df4fc725",
   "metadata": {},
   "outputs": [
    {
     "data": {
      "text/plain": [
       "(210, 2)"
      ]
     },
     "execution_count": 61,
     "metadata": {},
     "output_type": "execute_result"
    }
   ],
   "source": [
    "pr_df.shape"
   ]
  },
  {
   "cell_type": "code",
   "execution_count": 62,
   "id": "84ad4b68",
   "metadata": {},
   "outputs": [
    {
     "data": {
      "text/plain": [
       "(76, 2)"
      ]
     },
     "execution_count": 62,
     "metadata": {},
     "output_type": "execute_result"
    }
   ],
   "source": [
    "commit_df.shape"
   ]
  },
  {
   "cell_type": "code",
   "execution_count": 63,
   "id": "c7909787",
   "metadata": {},
   "outputs": [
    {
     "data": {
      "text/plain": [
       "(275, 3)"
      ]
     },
     "execution_count": 63,
     "metadata": {},
     "output_type": "execute_result"
    }
   ],
   "source": [
    "all_df.shape"
   ]
  },
  {
   "cell_type": "code",
   "execution_count": 64,
   "id": "c1fc75ce",
   "metadata": {},
   "outputs": [
    {
     "data": {
      "text/plain": [
       "Index(['author_number', 'commit_number', 'Source'], dtype='object')"
      ]
     },
     "execution_count": 64,
     "metadata": {},
     "output_type": "execute_result"
    }
   ],
   "source": [
    "all_df.columns"
   ]
  },
  {
   "cell_type": "code",
   "execution_count": 65,
   "id": "360ca97c",
   "metadata": {},
   "outputs": [
    {
     "data": {
      "text/plain": [
       "index\n",
       "grnpin/textbox                      84\n",
       "bh679/MindfulAI2.0                  87\n",
       "4lejandrito/fetchbook               83\n",
       "changchiyou/Github-Action-Test     114\n",
       "waylon620/GPT-tutor                 85\n",
       "                                  ... \n",
       "simonw/llm                         441\n",
       "decred/dcrdex                     1776\n",
       "rust-lang/rfcs                    6091\n",
       "MatrixAI/Polykey                  1602\n",
       "mindee/doctr                       774\n",
       "Name: commit_number, Length: 275, dtype: int64"
      ]
     },
     "execution_count": 65,
     "metadata": {},
     "output_type": "execute_result"
    }
   ],
   "source": [
    "all_df['commit_number']"
   ]
  },
  {
   "cell_type": "code",
   "execution_count": 66,
   "id": "3f90c757",
   "metadata": {},
   "outputs": [],
   "source": [
    "import matplotlib"
   ]
  },
  {
   "cell_type": "code",
   "execution_count": 67,
   "id": "7870c6cf",
   "metadata": {},
   "outputs": [
    {
     "data": {
      "text/plain": [
       "<Axes: ylabel='Frequency'>"
      ]
     },
     "execution_count": 67,
     "metadata": {},
     "output_type": "execute_result"
    },
    {
     "data": {
      "image/png": "[encoded data removed]",
      "text/plain": [
       "<Figure size 640x480 with 1 Axes>"
      ]
     },
     "metadata": {},
     "output_type": "display_data"
    }
   ],
   "source": [
    "all_df['commit_number'].plot(kind='hist')"
   ]
  },
  {
   "cell_type": "code",
   "execution_count": 68,
   "id": "1f883f5d",
   "metadata": {},
   "outputs": [
    {
     "data": {
      "text/plain": [
       "<Axes: ylabel='Frequency'>"
      ]
     },
     "execution_count": 68,
     "metadata": {},
     "output_type": "execute_result"
    },
    {
     "data": {
      "image/png": "[encoded data removed]",
      "text/plain": [
       "<Figure size 640x480 with 1 Axes>"
      ]
     },
     "metadata": {},
     "output_type": "display_data"
    }
   ],
   "source": [
    "all_df['author_number'].plot(kind='hist')"
   ]
  },
  {
   "cell_type": "code",
   "execution_count": 69,
   "id": "912aae6b",
   "metadata": {},
   "outputs": [
    {
     "data": {
      "text/plain": [
       "<Axes: xlabel='index'>"
      ]
     },
     "execution_count": 69,
     "metadata": {},
     "output_type": "execute_result"
    },
    {
     "data": {
      "image/png": "[encoded data removed]",
      "text/plain": [
       "<Figure size 640x480 with 1 Axes>"
      ]
     },
     "metadata": {},
     "output_type": "display_data"
    }
   ],
   "source": [
    "all_df['author_number'].plot(kind='area')"
   ]
  },
  {
   "cell_type": "code",
   "execution_count": 70,
   "id": "6bc3e2a0",
   "metadata": {},
   "outputs": [
    {
     "data": {
      "text/plain": [
       "<Axes: xlabel='author_number', ylabel='commit_number'>"
      ]
     },
     "execution_count": 70,
     "metadata": {},
     "output_type": "execute_result"
    },
    {
     "data": {
      "image/png": "[encoded data removed]",
      "text/plain": [
       "<Figure size 640x480 with 1 Axes>"
      ]
     },
     "metadata": {},
     "output_type": "display_data"
    }
   ],
   "source": [
    "all_df.plot(kind='scatter', x ='author_number', y ='commit_number')"
   ]
  },
  {
   "cell_type": "code",
   "execution_count": 71,
   "id": "3e83d441",
   "metadata": {},
   "outputs": [
    {
     "data": {
      "text/plain": [
       "<Axes: xlabel='author_number', ylabel='commit_number'>"
      ]
     },
     "execution_count": 71,
     "metadata": {},
     "output_type": "execute_result"
    },
    {
     "data": {
      "image/png": "[encoded data removed]",
      "text/plain": [
       "<Figure size 640x480 with 1 Axes>"
      ]
     },
     "metadata": {},
     "output_type": "display_data"
    }
   ],
   "source": [
    "pr_df.plot(kind='scatter', x ='author_number', y ='commit_number')"
   ]
  },
  {
   "cell_type": "code",
   "execution_count": 72,
   "id": "14c99d33",
   "metadata": {},
   "outputs": [
    {
     "data": {
      "text/plain": [
       "<Axes: xlabel='author_number', ylabel='commit_number'>"
      ]
     },
     "execution_count": 72,
     "metadata": {},
     "output_type": "execute_result"
    },
    {
     "data": {
      "image/png": "[encoded data removed]",
      "text/plain": [
       "<Figure size 640x480 with 1 Axes>"
      ]
     },
     "metadata": {},
     "output_type": "display_data"
    }
   ],
   "source": [
    "commit_df.plot(kind='scatter', x ='author_number', y ='commit_number')"
   ]
  },
  {
   "cell_type": "code",
   "execution_count": 73,
   "id": "446f9e6b",
   "metadata": {},
   "outputs": [
    {
     "data": {
      "text/html": [
       "<div>\n",
       "<style scoped>\n",
       "    .dataframe tbody tr th:only-of-type {\n",
       "        vertical-align: middle;\n",
       "    }\n",
       "\n",
       "    .dataframe tbody tr th {\n",
       "        vertical-align: top;\n",
       "    }\n",
       "\n",
       "    .dataframe thead th {\n",
       "        text-align: right;\n",
       "    }\n",
       "</style>\n",
       "<table border=\"1\" class=\"dataframe\">\n",
       "  <thead>\n",
       "    <tr style=\"text-align: right;\">\n",
       "      <th></th>\n",
       "      <th>author_number</th>\n",
       "      <th>commit_number</th>\n",
       "    </tr>\n",
       "  </thead>\n",
       "  <tbody>\n",
       "    <tr>\n",
       "      <th>count</th>\n",
       "      <td>210.000000</td>\n",
       "      <td>210.000000</td>\n",
       "    </tr>\n",
       "    <tr>\n",
       "      <th>mean</th>\n",
       "      <td>133.823810</td>\n",
       "      <td>3703.133333</td>\n",
       "    </tr>\n",
       "    <tr>\n",
       "      <th>std</th>\n",
       "      <td>524.790405</td>\n",
       "      <td>10435.828533</td>\n",
       "    </tr>\n",
       "    <tr>\n",
       "      <th>min</th>\n",
       "      <td>1.000000</td>\n",
       "      <td>1.000000</td>\n",
       "    </tr>\n",
       "    <tr>\n",
       "      <th>25%</th>\n",
       "      <td>5.250000</td>\n",
       "      <td>124.500000</td>\n",
       "    </tr>\n",
       "    <tr>\n",
       "      <th>50%</th>\n",
       "      <td>16.500000</td>\n",
       "      <td>580.000000</td>\n",
       "    </tr>\n",
       "    <tr>\n",
       "      <th>75%</th>\n",
       "      <td>63.750000</td>\n",
       "      <td>2281.000000</td>\n",
       "    </tr>\n",
       "    <tr>\n",
       "      <th>max</th>\n",
       "      <td>5970.000000</td>\n",
       "      <td>89631.000000</td>\n",
       "    </tr>\n",
       "  </tbody>\n",
       "</table>\n",
       "</div>"
      ],
      "text/plain": [
       "       author_number  commit_number\n",
       "count     210.000000     210.000000\n",
       "mean      133.823810    3703.133333\n",
       "std       524.790405   10435.828533\n",
       "min         1.000000       1.000000\n",
       "25%         5.250000     124.500000\n",
       "50%        16.500000     580.000000\n",
       "75%        63.750000    2281.000000\n",
       "max      5970.000000   89631.000000"
      ]
     },
     "execution_count": 73,
     "metadata": {},
     "output_type": "execute_result"
    }
   ],
   "source": [
    "pr_df.describe()"
   ]
  },
  {
   "cell_type": "code",
   "execution_count": 74,
   "id": "11b5f8b5",
   "metadata": {},
   "outputs": [
    {
     "data": {
      "text/html": [
       "<div>\n",
       "<style scoped>\n",
       "    .dataframe tbody tr th:only-of-type {\n",
       "        vertical-align: middle;\n",
       "    }\n",
       "\n",
       "    .dataframe tbody tr th {\n",
       "        vertical-align: top;\n",
       "    }\n",
       "\n",
       "    .dataframe thead th {\n",
       "        text-align: right;\n",
       "    }\n",
       "</style>\n",
       "<table border=\"1\" class=\"dataframe\">\n",
       "  <thead>\n",
       "    <tr style=\"text-align: right;\">\n",
       "      <th></th>\n",
       "      <th>author_number</th>\n",
       "      <th>commit_number</th>\n",
       "    </tr>\n",
       "  </thead>\n",
       "  <tbody>\n",
       "    <tr>\n",
       "      <th>count</th>\n",
       "      <td>76.000000</td>\n",
       "      <td>76.000000</td>\n",
       "    </tr>\n",
       "    <tr>\n",
       "      <th>mean</th>\n",
       "      <td>40.157895</td>\n",
       "      <td>1599.671053</td>\n",
       "    </tr>\n",
       "    <tr>\n",
       "      <th>std</th>\n",
       "      <td>138.779446</td>\n",
       "      <td>5267.655052</td>\n",
       "    </tr>\n",
       "    <tr>\n",
       "      <th>min</th>\n",
       "      <td>1.000000</td>\n",
       "      <td>1.000000</td>\n",
       "    </tr>\n",
       "    <tr>\n",
       "      <th>25%</th>\n",
       "      <td>1.000000</td>\n",
       "      <td>16.750000</td>\n",
       "    </tr>\n",
       "    <tr>\n",
       "      <th>50%</th>\n",
       "      <td>2.000000</td>\n",
       "      <td>71.000000</td>\n",
       "    </tr>\n",
       "    <tr>\n",
       "      <th>75%</th>\n",
       "      <td>5.250000</td>\n",
       "      <td>208.750000</td>\n",
       "    </tr>\n",
       "    <tr>\n",
       "      <th>max</th>\n",
       "      <td>683.000000</td>\n",
       "      <td>33415.000000</td>\n",
       "    </tr>\n",
       "  </tbody>\n",
       "</table>\n",
       "</div>"
      ],
      "text/plain": [
       "       author_number  commit_number\n",
       "count      76.000000      76.000000\n",
       "mean       40.157895    1599.671053\n",
       "std       138.779446    5267.655052\n",
       "min         1.000000       1.000000\n",
       "25%         1.000000      16.750000\n",
       "50%         2.000000      71.000000\n",
       "75%         5.250000     208.750000\n",
       "max       683.000000   33415.000000"
      ]
     },
     "execution_count": 74,
     "metadata": {},
     "output_type": "execute_result"
    }
   ],
   "source": [
    "commit_df.describe()"
   ]
  },
  {
   "cell_type": "code",
   "execution_count": 75,
   "id": "9097d700",
   "metadata": {},
   "outputs": [
    {
     "data": {
      "text/plain": [
       "'sqlalchemy/sqlalchemy'"
      ]
     },
     "execution_count": 75,
     "metadata": {},
     "output_type": "execute_result"
    }
   ],
   "source": [
    "commit_df['author_number'].idxmax()"
   ]
  },
  {
   "cell_type": "code",
   "execution_count": 76,
   "id": "5c8bad39",
   "metadata": {},
   "outputs": [
    {
     "data": {
      "text/plain": [
       "'Buildstarted/linksfordevs'"
      ]
     },
     "execution_count": 76,
     "metadata": {},
     "output_type": "execute_result"
    }
   ],
   "source": [
    "commit_df['commit_number'].idxmax()"
   ]
  },
  {
   "cell_type": "code",
   "execution_count": 77,
   "id": "b03a96b6",
   "metadata": {},
   "outputs": [
    {
     "data": {
      "text/plain": [
       "'rails/rails'"
      ]
     },
     "execution_count": 77,
     "metadata": {},
     "output_type": "execute_result"
    }
   ],
   "source": [
    "pr_df['author_number'].idxmax()"
   ]
  },
  {
   "cell_type": "code",
   "execution_count": 78,
   "id": "024251ef",
   "metadata": {},
   "outputs": [
    {
     "data": {
      "text/plain": [
       "'rails/rails'"
      ]
     },
     "execution_count": 78,
     "metadata": {},
     "output_type": "execute_result"
    }
   ],
   "source": [
    "pr_df['commit_number'].idxmax()"
   ]
  },
  {
   "cell_type": "code",
   "execution_count": 80,
   "id": "b1e51529",
   "metadata": {},
   "outputs": [
    {
     "data": {
      "text/html": [
       "<div>\n",
       "<style scoped>\n",
       "    .dataframe tbody tr th:only-of-type {\n",
       "        vertical-align: middle;\n",
       "    }\n",
       "\n",
       "    .dataframe tbody tr th {\n",
       "        vertical-align: top;\n",
       "    }\n",
       "\n",
       "    .dataframe thead th {\n",
       "        text-align: right;\n",
       "    }\n",
       "</style>\n",
       "<table border=\"1\" class=\"dataframe\">\n",
       "  <thead>\n",
       "    <tr style=\"text-align: right;\">\n",
       "      <th></th>\n",
       "      <th>author_number</th>\n",
       "      <th>commit_number</th>\n",
       "    </tr>\n",
       "  </thead>\n",
       "  <tbody>\n",
       "    <tr>\n",
       "      <th>validatorjs/validator.js</th>\n",
       "      <td>502</td>\n",
       "      <td>2221</td>\n",
       "    </tr>\n",
       "    <tr>\n",
       "      <th>magnifiq/js-practice-vention</th>\n",
       "      <td>3</td>\n",
       "      <td>5</td>\n",
       "    </tr>\n",
       "    <tr>\n",
       "      <th>FlorianWoelki/obsidian-symbols-prettifier</th>\n",
       "      <td>2</td>\n",
       "      <td>30</td>\n",
       "    </tr>\n",
       "    <tr>\n",
       "      <th>asaskevich/govalidator</th>\n",
       "      <td>108</td>\n",
       "      <td>588</td>\n",
       "    </tr>\n",
       "    <tr>\n",
       "      <th>rom-py/rompy</th>\n",
       "      <td>15</td>\n",
       "      <td>870</td>\n",
       "    </tr>\n",
       "  </tbody>\n",
       "</table>\n",
       "</div>"
      ],
      "text/plain": [
       "                                           author_number  commit_number\n",
       "validatorjs/validator.js                             502           2221\n",
       "magnifiq/js-practice-vention                           3              5\n",
       "FlorianWoelki/obsidian-symbols-prettifier              2             30\n",
       "asaskevich/govalidator                               108            588\n",
       "rom-py/rompy                                          15            870"
      ]
     },
     "execution_count": 80,
     "metadata": {},
     "output_type": "execute_result"
    }
   ],
   "source": [
    "pr_df.head()"
   ]
  },
  {
   "cell_type": "code",
   "execution_count": 82,
   "id": "08331a17",
   "metadata": {},
   "outputs": [
    {
     "data": {
      "text/plain": [
       "<Axes: xlabel='author_number', ylabel='commit_number'>"
      ]
     },
     "execution_count": 82,
     "metadata": {},
     "output_type": "execute_result"
    },
    {
     "data": {
      "image/png": "[encoded data removed]",
      "text/plain": [
       "<Figure size 640x480 with 1 Axes>"
      ]
     },
     "metadata": {},
     "output_type": "display_data"
    }
   ],
   "source": [
    "pr_df[(pr_df['author_number']<200)&(pr_df['commit_number']<2500)].plot(kind='scatter', x ='author_number', y ='commit_number')"
   ]
  },
  {
   "cell_type": "code",
   "execution_count": 83,
   "id": "bf46d96c",
   "metadata": {},
   "outputs": [
    {
     "data": {
      "text/html": [
       "<div>\n",
       "<style scoped>\n",
       "    .dataframe tbody tr th:only-of-type {\n",
       "        vertical-align: middle;\n",
       "    }\n",
       "\n",
       "    .dataframe tbody tr th {\n",
       "        vertical-align: top;\n",
       "    }\n",
       "\n",
       "    .dataframe thead th {\n",
       "        text-align: right;\n",
       "    }\n",
       "</style>\n",
       "<table border=\"1\" class=\"dataframe\">\n",
       "  <thead>\n",
       "    <tr style=\"text-align: right;\">\n",
       "      <th></th>\n",
       "      <th>author_number</th>\n",
       "      <th>commit_number</th>\n",
       "    </tr>\n",
       "  </thead>\n",
       "  <tbody>\n",
       "    <tr>\n",
       "      <th>count</th>\n",
       "      <td>58.000000</td>\n",
       "      <td>58.000000</td>\n",
       "    </tr>\n",
       "    <tr>\n",
       "      <th>mean</th>\n",
       "      <td>2.379310</td>\n",
       "      <td>55.482759</td>\n",
       "    </tr>\n",
       "    <tr>\n",
       "      <th>std</th>\n",
       "      <td>2.687382</td>\n",
       "      <td>56.519285</td>\n",
       "    </tr>\n",
       "    <tr>\n",
       "      <th>min</th>\n",
       "      <td>1.000000</td>\n",
       "      <td>1.000000</td>\n",
       "    </tr>\n",
       "    <tr>\n",
       "      <th>25%</th>\n",
       "      <td>1.000000</td>\n",
       "      <td>12.250000</td>\n",
       "    </tr>\n",
       "    <tr>\n",
       "      <th>50%</th>\n",
       "      <td>1.000000</td>\n",
       "      <td>33.000000</td>\n",
       "    </tr>\n",
       "    <tr>\n",
       "      <th>75%</th>\n",
       "      <td>3.000000</td>\n",
       "      <td>84.750000</td>\n",
       "    </tr>\n",
       "    <tr>\n",
       "      <th>max</th>\n",
       "      <td>16.000000</td>\n",
       "      <td>214.000000</td>\n",
       "    </tr>\n",
       "  </tbody>\n",
       "</table>\n",
       "</div>"
      ],
      "text/plain": [
       "       author_number  commit_number\n",
       "count      58.000000      58.000000\n",
       "mean        2.379310      55.482759\n",
       "std         2.687382      56.519285\n",
       "min         1.000000       1.000000\n",
       "25%         1.000000      12.250000\n",
       "50%         1.000000      33.000000\n",
       "75%         3.000000      84.750000\n",
       "max        16.000000     214.000000"
      ]
     },
     "execution_count": 83,
     "metadata": {},
     "output_type": "execute_result"
    }
   ],
   "source": [
    "commit_df[(commit_df['author_number']<100)&(commit_df['commit_number']<250)].describe()"
   ]
  },
  {
   "cell_type": "code",
   "execution_count": 84,
   "id": "09fc63a6",
   "metadata": {},
   "outputs": [
    {
     "data": {
      "text/plain": [
       "<Axes: xlabel='author_number', ylabel='commit_number'>"
      ]
     },
     "execution_count": 84,
     "metadata": {},
     "output_type": "execute_result"
    },
    {
     "data": {
      "image/png": "[encoded data removed]",
      "text/plain": [
       "<Figure size 640x480 with 1 Axes>"
      ]
     },
     "metadata": {},
     "output_type": "display_data"
    }
   ],
   "source": [
    "commit_df[(commit_df['author_number']<100)&(commit_df['commit_number']<250)].plot(kind='scatter', x ='author_number', y ='commit_number')"
   ]
  },
  {
   "cell_type": "code",
   "execution_count": 85,
   "id": "c75e6278",
   "metadata": {},
   "outputs": [
    {
     "data": {
      "text/plain": [
       "<Axes: xlabel='author_number', ylabel='commit_number'>"
      ]
     },
     "execution_count": 85,
     "metadata": {},
     "output_type": "execute_result"
    },
    {
     "data": {
      "image/png": "[encoded data removed]",
      "text/plain": [
       "<Figure size 640x480 with 1 Axes>"
      ]
     },
     "metadata": {},
     "output_type": "display_data"
    }
   ],
   "source": [
    "all_df[(all_df['author_number']<200)&(all_df['commit_number']<2000)].plot(kind='scatter', x ='author_number', y ='commit_number')"
   ]
  },
  {
   "cell_type": "code",
   "execution_count": 86,
   "id": "618c87db",
   "metadata": {},
   "outputs": [
    {
     "data": {
      "text/html": [
       "<div>\n",
       "<style scoped>\n",
       "    .dataframe tbody tr th:only-of-type {\n",
       "        vertical-align: middle;\n",
       "    }\n",
       "\n",
       "    .dataframe tbody tr th {\n",
       "        vertical-align: top;\n",
       "    }\n",
       "\n",
       "    .dataframe thead th {\n",
       "        text-align: right;\n",
       "    }\n",
       "</style>\n",
       "<table border=\"1\" class=\"dataframe\">\n",
       "  <thead>\n",
       "    <tr style=\"text-align: right;\">\n",
       "      <th></th>\n",
       "      <th>author_number</th>\n",
       "      <th>commit_number</th>\n",
       "    </tr>\n",
       "  </thead>\n",
       "  <tbody>\n",
       "    <tr>\n",
       "      <th>count</th>\n",
       "      <td>275.000000</td>\n",
       "      <td>275.000000</td>\n",
       "    </tr>\n",
       "    <tr>\n",
       "      <th>mean</th>\n",
       "      <td>110.196364</td>\n",
       "      <td>3228.018182</td>\n",
       "    </tr>\n",
       "    <tr>\n",
       "      <th>std</th>\n",
       "      <td>465.237438</td>\n",
       "      <td>9553.957136</td>\n",
       "    </tr>\n",
       "    <tr>\n",
       "      <th>min</th>\n",
       "      <td>1.000000</td>\n",
       "      <td>1.000000</td>\n",
       "    </tr>\n",
       "    <tr>\n",
       "      <th>25%</th>\n",
       "      <td>3.000000</td>\n",
       "      <td>66.500000</td>\n",
       "    </tr>\n",
       "    <tr>\n",
       "      <th>50%</th>\n",
       "      <td>9.000000</td>\n",
       "      <td>359.000000</td>\n",
       "    </tr>\n",
       "    <tr>\n",
       "      <th>75%</th>\n",
       "      <td>48.000000</td>\n",
       "      <td>1626.500000</td>\n",
       "    </tr>\n",
       "    <tr>\n",
       "      <th>max</th>\n",
       "      <td>5970.000000</td>\n",
       "      <td>89631.000000</td>\n",
       "    </tr>\n",
       "  </tbody>\n",
       "</table>\n",
       "</div>"
      ],
      "text/plain": [
       "       author_number  commit_number\n",
       "count     275.000000     275.000000\n",
       "mean      110.196364    3228.018182\n",
       "std       465.237438    9553.957136\n",
       "min         1.000000       1.000000\n",
       "25%         3.000000      66.500000\n",
       "50%         9.000000     359.000000\n",
       "75%        48.000000    1626.500000\n",
       "max      5970.000000   89631.000000"
      ]
     },
     "execution_count": 86,
     "metadata": {},
     "output_type": "execute_result"
    }
   ],
   "source": [
    "all_df.describe()"
   ]
  },
  {
   "cell_type": "markdown",
   "id": "de42810f",
   "metadata": {},
   "source": [
    "all_df[(all_df['author_number']<200)&(all_df['commit_number']<2000)].describe()"
   ]
  },
  {
   "cell_type": "code",
   "execution_count": 87,
   "id": "497dc8aa",
   "metadata": {},
   "outputs": [
    {
     "data": {
      "text/html": [
       "<div>\n",
       "<style scoped>\n",
       "    .dataframe tbody tr th:only-of-type {\n",
       "        vertical-align: middle;\n",
       "    }\n",
       "\n",
       "    .dataframe tbody tr th {\n",
       "        vertical-align: top;\n",
       "    }\n",
       "\n",
       "    .dataframe thead th {\n",
       "        text-align: right;\n",
       "    }\n",
       "</style>\n",
       "<table border=\"1\" class=\"dataframe\">\n",
       "  <thead>\n",
       "    <tr style=\"text-align: right;\">\n",
       "      <th></th>\n",
       "      <th>author_number</th>\n",
       "      <th>commit_number</th>\n",
       "    </tr>\n",
       "  </thead>\n",
       "  <tbody>\n",
       "    <tr>\n",
       "      <th>count</th>\n",
       "      <td>211.000000</td>\n",
       "      <td>211.000000</td>\n",
       "    </tr>\n",
       "    <tr>\n",
       "      <th>mean</th>\n",
       "      <td>14.971564</td>\n",
       "      <td>361.597156</td>\n",
       "    </tr>\n",
       "    <tr>\n",
       "      <th>std</th>\n",
       "      <td>23.143839</td>\n",
       "      <td>459.205757</td>\n",
       "    </tr>\n",
       "    <tr>\n",
       "      <th>min</th>\n",
       "      <td>1.000000</td>\n",
       "      <td>1.000000</td>\n",
       "    </tr>\n",
       "    <tr>\n",
       "      <th>25%</th>\n",
       "      <td>2.000000</td>\n",
       "      <td>40.000000</td>\n",
       "    </tr>\n",
       "    <tr>\n",
       "      <th>50%</th>\n",
       "      <td>6.000000</td>\n",
       "      <td>155.000000</td>\n",
       "    </tr>\n",
       "    <tr>\n",
       "      <th>75%</th>\n",
       "      <td>16.000000</td>\n",
       "      <td>541.000000</td>\n",
       "    </tr>\n",
       "    <tr>\n",
       "      <th>max</th>\n",
       "      <td>165.000000</td>\n",
       "      <td>1915.000000</td>\n",
       "    </tr>\n",
       "  </tbody>\n",
       "</table>\n",
       "</div>"
      ],
      "text/plain": [
       "       author_number  commit_number\n",
       "count     211.000000     211.000000\n",
       "mean       14.971564     361.597156\n",
       "std        23.143839     459.205757\n",
       "min         1.000000       1.000000\n",
       "25%         2.000000      40.000000\n",
       "50%         6.000000     155.000000\n",
       "75%        16.000000     541.000000\n",
       "max       165.000000    1915.000000"
      ]
     },
     "execution_count": 87,
     "metadata": {},
     "output_type": "execute_result"
    }
   ],
   "source": [
    "all_df[(all_df['author_number']<200)&(all_df['commit_number']<2000)].describe()"
   ]
  },
  {
   "cell_type": "code",
   "execution_count": 88,
   "id": "151e1073",
   "metadata": {},
   "outputs": [],
   "source": [
    "colors = {'b':'red', 'pr':'green', 'c':'blue'}"
   ]
  },
  {
   "cell_type": "code",
   "execution_count": 91,
   "id": "a3ef459a",
   "metadata": {},
   "outputs": [],
   "source": [
    "all_df['Source_color']=all_df['Source'].map(colors)"
   ]
  },
  {
   "cell_type": "code",
   "execution_count": 93,
   "id": "1e5576b0",
   "metadata": {},
   "outputs": [
    {
     "data": {
      "text/plain": [
       "<Axes: xlabel='author_number', ylabel='commit_number'>"
      ]
     },
     "execution_count": 93,
     "metadata": {},
     "output_type": "execute_result"
    },
    {
     "data": {
      "image/png": "[encoded data removed]",
      "text/plain": [
       "<Figure size 640x480 with 1 Axes>"
      ]
     },
     "metadata": {},
     "output_type": "display_data"
    }
   ],
   "source": [
    "all_df.plot(kind='scatter', x ='author_number', y ='commit_number', c ='Source_color')"
   ]
  },
  {
   "cell_type": "code",
   "execution_count": 95,
   "id": "7686a1b5",
   "metadata": {},
   "outputs": [
    {
     "data": {
      "text/plain": [
       "<Axes: xlabel='author_number', ylabel='commit_number'>"
      ]
     },
     "execution_count": 95,
     "metadata": {},
     "output_type": "execute_result"
    },
    {
     "data": {
      "image/png": "[encoded data removed]",
      "text/plain": [
       "<Figure size 640x480 with 1 Axes>"
      ]
     },
     "metadata": {},
     "output_type": "display_data"
    }
   ],
   "source": [
    "all_df[(all_df['author_number']<200)&(all_df['commit_number']<2000)].plot(kind='scatter', x ='author_number', y ='commit_number', c ='Source_color')"
   ]
  },
  {
   "cell_type": "code",
   "execution_count": 96,
   "id": "775aab61",
   "metadata": {},
   "outputs": [
    {
     "data": {
      "text/html": [
       "<div>\n",
       "<style scoped>\n",
       "    .dataframe tbody tr th:only-of-type {\n",
       "        vertical-align: middle;\n",
       "    }\n",
       "\n",
       "    .dataframe tbody tr th {\n",
       "        vertical-align: top;\n",
       "    }\n",
       "\n",
       "    .dataframe thead th {\n",
       "        text-align: right;\n",
       "    }\n",
       "</style>\n",
       "<table border=\"1\" class=\"dataframe\">\n",
       "  <thead>\n",
       "    <tr style=\"text-align: right;\">\n",
       "      <th></th>\n",
       "      <th>author_number</th>\n",
       "      <th>commit_number</th>\n",
       "    </tr>\n",
       "  </thead>\n",
       "  <tbody>\n",
       "    <tr>\n",
       "      <th>count</th>\n",
       "      <td>275.000000</td>\n",
       "      <td>275.000000</td>\n",
       "    </tr>\n",
       "    <tr>\n",
       "      <th>mean</th>\n",
       "      <td>110.196364</td>\n",
       "      <td>3228.018182</td>\n",
       "    </tr>\n",
       "    <tr>\n",
       "      <th>std</th>\n",
       "      <td>465.237438</td>\n",
       "      <td>9553.957136</td>\n",
       "    </tr>\n",
       "    <tr>\n",
       "      <th>min</th>\n",
       "      <td>1.000000</td>\n",
       "      <td>1.000000</td>\n",
       "    </tr>\n",
       "    <tr>\n",
       "      <th>25%</th>\n",
       "      <td>3.000000</td>\n",
       "      <td>66.500000</td>\n",
       "    </tr>\n",
       "    <tr>\n",
       "      <th>50%</th>\n",
       "      <td>9.000000</td>\n",
       "      <td>359.000000</td>\n",
       "    </tr>\n",
       "    <tr>\n",
       "      <th>75%</th>\n",
       "      <td>48.000000</td>\n",
       "      <td>1626.500000</td>\n",
       "    </tr>\n",
       "    <tr>\n",
       "      <th>max</th>\n",
       "      <td>5970.000000</td>\n",
       "      <td>89631.000000</td>\n",
       "    </tr>\n",
       "  </tbody>\n",
       "</table>\n",
       "</div>"
      ],
      "text/plain": [
       "       author_number  commit_number\n",
       "count     275.000000     275.000000\n",
       "mean      110.196364    3228.018182\n",
       "std       465.237438    9553.957136\n",
       "min         1.000000       1.000000\n",
       "25%         3.000000      66.500000\n",
       "50%         9.000000     359.000000\n",
       "75%        48.000000    1626.500000\n",
       "max      5970.000000   89631.000000"
      ]
     },
     "execution_count": 96,
     "metadata": {},
     "output_type": "execute_result"
    }
   ],
   "source": [
    "all_df.describe()"
   ]
  },
  {
   "cell_type": "code",
   "execution_count": 97,
   "id": "b763f2dc",
   "metadata": {},
   "outputs": [
    {
     "data": {
      "text/html": [
       "<div>\n",
       "<style scoped>\n",
       "    .dataframe tbody tr th:only-of-type {\n",
       "        vertical-align: middle;\n",
       "    }\n",
       "\n",
       "    .dataframe tbody tr th {\n",
       "        vertical-align: top;\n",
       "    }\n",
       "\n",
       "    .dataframe thead th {\n",
       "        text-align: right;\n",
       "    }\n",
       "</style>\n",
       "<table border=\"1\" class=\"dataframe\">\n",
       "  <thead>\n",
       "    <tr style=\"text-align: right;\">\n",
       "      <th></th>\n",
       "      <th>author_number</th>\n",
       "      <th>commit_number</th>\n",
       "    </tr>\n",
       "  </thead>\n",
       "  <tbody>\n",
       "    <tr>\n",
       "      <th>count</th>\n",
       "      <td>211.000000</td>\n",
       "      <td>211.000000</td>\n",
       "    </tr>\n",
       "    <tr>\n",
       "      <th>mean</th>\n",
       "      <td>14.971564</td>\n",
       "      <td>361.597156</td>\n",
       "    </tr>\n",
       "    <tr>\n",
       "      <th>std</th>\n",
       "      <td>23.143839</td>\n",
       "      <td>459.205757</td>\n",
       "    </tr>\n",
       "    <tr>\n",
       "      <th>min</th>\n",
       "      <td>1.000000</td>\n",
       "      <td>1.000000</td>\n",
       "    </tr>\n",
       "    <tr>\n",
       "      <th>25%</th>\n",
       "      <td>2.000000</td>\n",
       "      <td>40.000000</td>\n",
       "    </tr>\n",
       "    <tr>\n",
       "      <th>50%</th>\n",
       "      <td>6.000000</td>\n",
       "      <td>155.000000</td>\n",
       "    </tr>\n",
       "    <tr>\n",
       "      <th>75%</th>\n",
       "      <td>16.000000</td>\n",
       "      <td>541.000000</td>\n",
       "    </tr>\n",
       "    <tr>\n",
       "      <th>max</th>\n",
       "      <td>165.000000</td>\n",
       "      <td>1915.000000</td>\n",
       "    </tr>\n",
       "  </tbody>\n",
       "</table>\n",
       "</div>"
      ],
      "text/plain": [
       "       author_number  commit_number\n",
       "count     211.000000     211.000000\n",
       "mean       14.971564     361.597156\n",
       "std        23.143839     459.205757\n",
       "min         1.000000       1.000000\n",
       "25%         2.000000      40.000000\n",
       "50%         6.000000     155.000000\n",
       "75%        16.000000     541.000000\n",
       "max       165.000000    1915.000000"
      ]
     },
     "execution_count": 97,
     "metadata": {},
     "output_type": "execute_result"
    }
   ],
   "source": [
    "all_df[(all_df['author_number']<200)&(all_df['commit_number']<2000)].describe()"
   ]
  }
 ],
 "metadata": {
  "kernelspec": {
   "display_name": "Python 3 (ipykernel)",
   "language": "python",
   "name": "python3"
  },
  "language_info": {
   "codemirror_mode": {
    "name": "ipython",
    "version": 3
   },
   "file_extension": ".py",
   "mimetype": "text/x-python",
   "name": "python",
   "nbconvert_exporter": "python",
   "pygments_lexer": "ipython3",
   "version": "3.10.12"
  }
 },
 "nbformat": 4,
 "nbformat_minor": 5
}
