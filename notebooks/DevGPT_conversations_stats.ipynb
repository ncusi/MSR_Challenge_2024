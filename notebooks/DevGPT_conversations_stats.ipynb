{
 "cells": [
  {
   "cell_type": "code",
   "execution_count": 1,
   "id": "07b889f7",
   "metadata": {},
   "outputs": [],
   "source": [
    "import pandas as pd"
   ]
  },
  {
   "cell_type": "code",
   "execution_count": 2,
   "id": "8d7231f3",
   "metadata": {},
   "outputs": [],
   "source": [
    "commit_sharings_changes_survival_df = pd.read_csv('commit_sharings_changes_survival_df.csv')"
   ]
  },
  {
   "cell_type": "code",
   "execution_count": 3,
   "id": "050c66fa",
   "metadata": {},
   "outputs": [],
   "source": [
    "pr_sharings_changes_survival_df = pd.read_csv('pr_sharings_changes_survival_df.csv')"
   ]
  },
  {
   "cell_type": "code",
   "execution_count": 4,
   "id": "deed38f6",
   "metadata": {},
   "outputs": [],
   "source": [
    "issue_sharings_changes_survival_df = pd.read_csv('issue_sharings_changes_survival_df.csv')"
   ]
  },
  {
   "cell_type": "code",
   "execution_count": 5,
   "id": "6c1e232d",
   "metadata": {},
   "outputs": [
    {
     "data": {
      "text/html": [
       "<div>\n",
       "<style scoped>\n",
       "    .dataframe tbody tr th:only-of-type {\n",
       "        vertical-align: middle;\n",
       "    }\n",
       "\n",
       "    .dataframe tbody tr th {\n",
       "        vertical-align: top;\n",
       "    }\n",
       "\n",
       "    .dataframe thead th {\n",
       "        text-align: right;\n",
       "    }\n",
       "</style>\n",
       "<table border=\"1\" class=\"dataframe\">\n",
       "  <thead>\n",
       "    <tr style=\"text-align: right;\">\n",
       "      <th></th>\n",
       "      <th>Type</th>\n",
       "      <th>URL</th>\n",
       "      <th>Author</th>\n",
       "      <th>RepoName</th>\n",
       "      <th>RepoLanguage</th>\n",
       "      <th>Sha</th>\n",
       "      <th>Message</th>\n",
       "      <th>AuthorAt</th>\n",
       "      <th>CommitAt</th>\n",
       "      <th>NumberOfChatgptSharings</th>\n",
       "      <th>...</th>\n",
       "      <th>Sha_is_valid</th>\n",
       "      <th>author_timestamp</th>\n",
       "      <th>committer_timestamp</th>\n",
       "      <th>n_parents</th>\n",
       "      <th>is_merged_HEAD</th>\n",
       "      <th>number_of_commits_from_HEAD</th>\n",
       "      <th>error</th>\n",
       "      <th>change_lines_survived</th>\n",
       "      <th>change_lines_total</th>\n",
       "      <th>min_died_committer_timestamp</th>\n",
       "    </tr>\n",
       "  </thead>\n",
       "  <tbody>\n",
       "    <tr>\n",
       "      <th>0</th>\n",
       "      <td>commit</td>\n",
       "      <td>https://github.com/grnpin/textbox/commit/fa335...</td>\n",
       "      <td>grnpin</td>\n",
       "      <td>grnpin/textbox</td>\n",
       "      <td>HTML</td>\n",
       "      <td>fa335cf2ec447d00f8e94b54a8b463725b92947c</td>\n",
       "      <td>https://chat.openai.com/share/4bad57dd-9636-4b...</td>\n",
       "      <td>2023-09-20T21:02:53.000+09:00</td>\n",
       "      <td>2023-09-20T21:02:53.000+09:00</td>\n",
       "      <td>1</td>\n",
       "      <td>...</td>\n",
       "      <td>True</td>\n",
       "      <td>1695211373</td>\n",
       "      <td>1695211373</td>\n",
       "      <td>1</td>\n",
       "      <td>True</td>\n",
       "      <td>20</td>\n",
       "      <td>False</td>\n",
       "      <td>0.0</td>\n",
       "      <td>13.0</td>\n",
       "      <td>1.695212e+09</td>\n",
       "    </tr>\n",
       "    <tr>\n",
       "      <th>1</th>\n",
       "      <td>commit</td>\n",
       "      <td>https://github.com/grnpin/textbox/commit/0dfc4...</td>\n",
       "      <td>grnpin</td>\n",
       "      <td>grnpin/textbox</td>\n",
       "      <td>HTML</td>\n",
       "      <td>0dfc4385b723060e1e6a21da17a952bd908084ff</td>\n",
       "      <td>https://chat.openai.com/share/1fd7ffc2-9264-45...</td>\n",
       "      <td>2023-09-09T09:36:16.000+09:00</td>\n",
       "      <td>2023-09-09T09:36:16.000+09:00</td>\n",
       "      <td>1</td>\n",
       "      <td>...</td>\n",
       "      <td>True</td>\n",
       "      <td>1694219776</td>\n",
       "      <td>1694219776</td>\n",
       "      <td>1</td>\n",
       "      <td>True</td>\n",
       "      <td>37</td>\n",
       "      <td>False</td>\n",
       "      <td>2.0</td>\n",
       "      <td>119.0</td>\n",
       "      <td>1.694222e+09</td>\n",
       "    </tr>\n",
       "    <tr>\n",
       "      <th>2</th>\n",
       "      <td>commit</td>\n",
       "      <td>https://github.com/grnpin/textbox/commit/811d0...</td>\n",
       "      <td>grnpin</td>\n",
       "      <td>grnpin/textbox</td>\n",
       "      <td>HTML</td>\n",
       "      <td>811d09acdca361c81281c7d71587ebdbd8437453</td>\n",
       "      <td>https://chat.openai.com/share/99d2d02f-7e3b-43...</td>\n",
       "      <td>2023-09-07T13:19:54.000Z</td>\n",
       "      <td>2023-09-07T13:19:54.000Z</td>\n",
       "      <td>1</td>\n",
       "      <td>...</td>\n",
       "      <td>True</td>\n",
       "      <td>1694092794</td>\n",
       "      <td>1694092794</td>\n",
       "      <td>1</td>\n",
       "      <td>True</td>\n",
       "      <td>57</td>\n",
       "      <td>False</td>\n",
       "      <td>3.0</td>\n",
       "      <td>35.0</td>\n",
       "      <td>1.694093e+09</td>\n",
       "    </tr>\n",
       "    <tr>\n",
       "      <th>3</th>\n",
       "      <td>commit</td>\n",
       "      <td>https://github.com/bh679/MindfulAI2.0/commit/e...</td>\n",
       "      <td>bh679</td>\n",
       "      <td>bh679/MindfulAI2.0</td>\n",
       "      <td>CSS</td>\n",
       "      <td>e4a8c0fe3adfefb5922315c5b9df3c9cc4c0cff6</td>\n",
       "      <td>https://chat.openai.com/share/90ebe55e-bd60-47...</td>\n",
       "      <td>2023-08-09T09:51:17.000+10:00</td>\n",
       "      <td>2023-08-09T09:51:17.000+10:00</td>\n",
       "      <td>1</td>\n",
       "      <td>...</td>\n",
       "      <td>True</td>\n",
       "      <td>1691538677</td>\n",
       "      <td>1691538677</td>\n",
       "      <td>1</td>\n",
       "      <td>True</td>\n",
       "      <td>63</td>\n",
       "      <td>False</td>\n",
       "      <td>1.0</td>\n",
       "      <td>1.0</td>\n",
       "      <td>NaN</td>\n",
       "    </tr>\n",
       "    <tr>\n",
       "      <th>4</th>\n",
       "      <td>commit</td>\n",
       "      <td>https://github.com/4lejandrito/fetchbook/commi...</td>\n",
       "      <td>4lejandrito</td>\n",
       "      <td>4lejandrito/fetchbook</td>\n",
       "      <td>JavaScript</td>\n",
       "      <td>11725c1a23503f31f7b7cd13188c8d9e30e822a9</td>\n",
       "      <td>docs: adding readme\\n\\nhttps://chat.openai.com...</td>\n",
       "      <td>2023-10-06T00:39:13.000+02:00</td>\n",
       "      <td>2023-10-06T01:01:51.000+02:00</td>\n",
       "      <td>1</td>\n",
       "      <td>...</td>\n",
       "      <td>True</td>\n",
       "      <td>1696545553</td>\n",
       "      <td>1696546911</td>\n",
       "      <td>1</td>\n",
       "      <td>True</td>\n",
       "      <td>44</td>\n",
       "      <td>False</td>\n",
       "      <td>89.0</td>\n",
       "      <td>129.0</td>\n",
       "      <td>1.696578e+09</td>\n",
       "    </tr>\n",
       "  </tbody>\n",
       "</table>\n",
       "<p>5 rows × 28 columns</p>\n",
       "</div>"
      ],
      "text/plain": [
       "     Type                                                URL       Author  \\\n",
       "0  commit  https://github.com/grnpin/textbox/commit/fa335...       grnpin   \n",
       "1  commit  https://github.com/grnpin/textbox/commit/0dfc4...       grnpin   \n",
       "2  commit  https://github.com/grnpin/textbox/commit/811d0...       grnpin   \n",
       "3  commit  https://github.com/bh679/MindfulAI2.0/commit/e...        bh679   \n",
       "4  commit  https://github.com/4lejandrito/fetchbook/commi...  4lejandrito   \n",
       "\n",
       "                RepoName RepoLanguage  \\\n",
       "0         grnpin/textbox         HTML   \n",
       "1         grnpin/textbox         HTML   \n",
       "2         grnpin/textbox         HTML   \n",
       "3     bh679/MindfulAI2.0          CSS   \n",
       "4  4lejandrito/fetchbook   JavaScript   \n",
       "\n",
       "                                        Sha  \\\n",
       "0  fa335cf2ec447d00f8e94b54a8b463725b92947c   \n",
       "1  0dfc4385b723060e1e6a21da17a952bd908084ff   \n",
       "2  811d09acdca361c81281c7d71587ebdbd8437453   \n",
       "3  e4a8c0fe3adfefb5922315c5b9df3c9cc4c0cff6   \n",
       "4  11725c1a23503f31f7b7cd13188c8d9e30e822a9   \n",
       "\n",
       "                                             Message  \\\n",
       "0  https://chat.openai.com/share/4bad57dd-9636-4b...   \n",
       "1  https://chat.openai.com/share/1fd7ffc2-9264-45...   \n",
       "2  https://chat.openai.com/share/99d2d02f-7e3b-43...   \n",
       "3  https://chat.openai.com/share/90ebe55e-bd60-47...   \n",
       "4  docs: adding readme\\n\\nhttps://chat.openai.com...   \n",
       "\n",
       "                        AuthorAt                       CommitAt  \\\n",
       "0  2023-09-20T21:02:53.000+09:00  2023-09-20T21:02:53.000+09:00   \n",
       "1  2023-09-09T09:36:16.000+09:00  2023-09-09T09:36:16.000+09:00   \n",
       "2       2023-09-07T13:19:54.000Z       2023-09-07T13:19:54.000Z   \n",
       "3  2023-08-09T09:51:17.000+10:00  2023-08-09T09:51:17.000+10:00   \n",
       "4  2023-10-06T00:39:13.000+02:00  2023-10-06T01:01:51.000+02:00   \n",
       "\n",
       "   NumberOfChatgptSharings  ...  Sha_is_valid  author_timestamp  \\\n",
       "0                        1  ...          True        1695211373   \n",
       "1                        1  ...          True        1694219776   \n",
       "2                        1  ...          True        1694092794   \n",
       "3                        1  ...          True        1691538677   \n",
       "4                        1  ...          True        1696545553   \n",
       "\n",
       "   committer_timestamp  n_parents  is_merged_HEAD  \\\n",
       "0           1695211373          1            True   \n",
       "1           1694219776          1            True   \n",
       "2           1694092794          1            True   \n",
       "3           1691538677          1            True   \n",
       "4           1696546911          1            True   \n",
       "\n",
       "   number_of_commits_from_HEAD  error  change_lines_survived  \\\n",
       "0                           20  False                    0.0   \n",
       "1                           37  False                    2.0   \n",
       "2                           57  False                    3.0   \n",
       "3                           63  False                    1.0   \n",
       "4                           44  False                   89.0   \n",
       "\n",
       "   change_lines_total  min_died_committer_timestamp  \n",
       "0                13.0                  1.695212e+09  \n",
       "1               119.0                  1.694222e+09  \n",
       "2                35.0                  1.694093e+09  \n",
       "3                 1.0                           NaN  \n",
       "4               129.0                  1.696578e+09  \n",
       "\n",
       "[5 rows x 28 columns]"
      ]
     },
     "execution_count": 5,
     "metadata": {},
     "output_type": "execute_result"
    }
   ],
   "source": [
    "commit_sharings_changes_survival_df.head()"
   ]
  },
  {
   "cell_type": "code",
   "execution_count": 5,
   "id": "4ab713d7",
   "metadata": {},
   "outputs": [
    {
     "data": {
      "text/plain": [
       "Index(['Type', 'URL', 'Author', 'RepoName', 'RepoLanguage', 'Sha', 'Message',\n",
       "       'AuthorAt', 'CommitAt', 'NumberOfChatgptSharings',\n",
       "       'TotalNumberOfPrompts', 'TotalTokensOfPrompts', 'TotalTokensOfAnswers',\n",
       "       'NumberOfConversations', 'ModelGPT4', 'ModelGPT3_5', 'ModelOther',\n",
       "       'Status404', 'Sha_is_valid', 'author_timestamp', 'committer_timestamp',\n",
       "       'n_parents', 'is_merged_HEAD', 'number_of_commits_from_HEAD', 'error',\n",
       "       'change_lines_survived', 'change_lines_total',\n",
       "       'min_died_committer_timestamp'],\n",
       "      dtype='object')"
      ]
     },
     "execution_count": 5,
     "metadata": {},
     "output_type": "execute_result"
    }
   ],
   "source": [
    "commit_sharings_changes_survival_df.columns"
   ]
  },
  {
   "cell_type": "code",
   "execution_count": 6,
   "id": "f2a875ee",
   "metadata": {},
   "outputs": [
    {
     "data": {
      "text/plain": [
       "(5, 28)"
      ]
     },
     "execution_count": 6,
     "metadata": {},
     "output_type": "execute_result"
    }
   ],
   "source": [
    "commit_sharings_changes_survival_df[commit_sharings_changes_survival_df['error']==True].shape"
   ]
  },
  {
   "cell_type": "code",
   "execution_count": 7,
   "id": "b9f8a507",
   "metadata": {},
   "outputs": [
    {
     "data": {
      "text/html": [
       "<div>\n",
       "<style scoped>\n",
       "    .dataframe tbody tr th:only-of-type {\n",
       "        vertical-align: middle;\n",
       "    }\n",
       "\n",
       "    .dataframe tbody tr th {\n",
       "        vertical-align: top;\n",
       "    }\n",
       "\n",
       "    .dataframe thead th {\n",
       "        text-align: right;\n",
       "    }\n",
       "</style>\n",
       "<table border=\"1\" class=\"dataframe\">\n",
       "  <thead>\n",
       "    <tr style=\"text-align: right;\">\n",
       "      <th></th>\n",
       "      <th>Type</th>\n",
       "      <th>URL</th>\n",
       "      <th>Author</th>\n",
       "      <th>RepoName</th>\n",
       "      <th>RepoLanguage</th>\n",
       "      <th>Sha</th>\n",
       "      <th>Message</th>\n",
       "      <th>AuthorAt</th>\n",
       "      <th>CommitAt</th>\n",
       "      <th>NumberOfChatgptSharings</th>\n",
       "      <th>...</th>\n",
       "      <th>Sha_is_valid</th>\n",
       "      <th>author_timestamp</th>\n",
       "      <th>committer_timestamp</th>\n",
       "      <th>n_parents</th>\n",
       "      <th>is_merged_HEAD</th>\n",
       "      <th>number_of_commits_from_HEAD</th>\n",
       "      <th>error</th>\n",
       "      <th>change_lines_survived</th>\n",
       "      <th>change_lines_total</th>\n",
       "      <th>min_died_committer_timestamp</th>\n",
       "    </tr>\n",
       "  </thead>\n",
       "  <tbody>\n",
       "    <tr>\n",
       "      <th>24</th>\n",
       "      <td>commit</td>\n",
       "      <td>https://github.com/bulatkhu/programmierung-und...</td>\n",
       "      <td>bulatkhu</td>\n",
       "      <td>bulatkhu/programmierung-und-programmiersprachen</td>\n",
       "      <td>Java</td>\n",
       "      <td>facee555ab88d879f6c2befd9bd5f2c1e77273f4</td>\n",
       "      <td>added a custom task for Template-Pattern https...</td>\n",
       "      <td>2023-09-18T16:51:14.000+02:00</td>\n",
       "      <td>2023-09-18T16:51:14.000+02:00</td>\n",
       "      <td>1</td>\n",
       "      <td>...</td>\n",
       "      <td>True</td>\n",
       "      <td>1695048674</td>\n",
       "      <td>1695048674</td>\n",
       "      <td>1</td>\n",
       "      <td>True</td>\n",
       "      <td>8</td>\n",
       "      <td>True</td>\n",
       "      <td>NaN</td>\n",
       "      <td>NaN</td>\n",
       "      <td>NaN</td>\n",
       "    </tr>\n",
       "    <tr>\n",
       "      <th>25</th>\n",
       "      <td>commit</td>\n",
       "      <td>https://github.com/bulatkhu/programmierung-und...</td>\n",
       "      <td>bulatkhu</td>\n",
       "      <td>bulatkhu/programmierung-und-programmiersprachen</td>\n",
       "      <td>Java</td>\n",
       "      <td>d29fe195b73b947dfad6a8fb18e19e00e40ffe9d</td>\n",
       "      <td>added a custom task for Composite-Pattern:  Me...</td>\n",
       "      <td>2023-09-18T13:23:30.000+02:00</td>\n",
       "      <td>2023-09-18T13:23:30.000+02:00</td>\n",
       "      <td>1</td>\n",
       "      <td>...</td>\n",
       "      <td>True</td>\n",
       "      <td>1695036210</td>\n",
       "      <td>1695036210</td>\n",
       "      <td>1</td>\n",
       "      <td>True</td>\n",
       "      <td>9</td>\n",
       "      <td>True</td>\n",
       "      <td>NaN</td>\n",
       "      <td>NaN</td>\n",
       "      <td>NaN</td>\n",
       "    </tr>\n",
       "    <tr>\n",
       "      <th>254</th>\n",
       "      <td>commit</td>\n",
       "      <td>https://github.com/Loknar/loka-ord/commit/cf96...</td>\n",
       "      <td>Loknar</td>\n",
       "      <td>Loknar/loka-ord</td>\n",
       "      <td>Batchfile</td>\n",
       "      <td>cf961d60645026c1ae6cd623bc31a7395ac14305</td>\n",
       "      <td>chatgpt útbjó eitt orð í grunninn\\n\\nsjá https...</td>\n",
       "      <td>2023-06-10T14:16:16.000Z</td>\n",
       "      <td>2023-06-10T14:16:16.000Z</td>\n",
       "      <td>1</td>\n",
       "      <td>...</td>\n",
       "      <td>True</td>\n",
       "      <td>1686406576</td>\n",
       "      <td>1686406576</td>\n",
       "      <td>1</td>\n",
       "      <td>True</td>\n",
       "      <td>234</td>\n",
       "      <td>True</td>\n",
       "      <td>NaN</td>\n",
       "      <td>NaN</td>\n",
       "      <td>NaN</td>\n",
       "    </tr>\n",
       "    <tr>\n",
       "      <th>345</th>\n",
       "      <td>commit</td>\n",
       "      <td>https://github.com/tisztamo/Junior/commit/c3e5...</td>\n",
       "      <td>tisztamo</td>\n",
       "      <td>tisztamo/Junior</td>\n",
       "      <td>CSS</td>\n",
       "      <td>c3e5995124f6e59735466a8cad1987a31a6ee6a4</td>\n",
       "      <td>Echo '$\\n$\\n' to TerminalSummary on enter keyp...</td>\n",
       "      <td>2023-10-02T14:07:21.000+02:00</td>\n",
       "      <td>2023-10-02T14:07:21.000+02:00</td>\n",
       "      <td>1</td>\n",
       "      <td>...</td>\n",
       "      <td>True</td>\n",
       "      <td>1696248441</td>\n",
       "      <td>1696248441</td>\n",
       "      <td>1</td>\n",
       "      <td>True</td>\n",
       "      <td>93</td>\n",
       "      <td>True</td>\n",
       "      <td>NaN</td>\n",
       "      <td>NaN</td>\n",
       "      <td>NaN</td>\n",
       "    </tr>\n",
       "    <tr>\n",
       "      <th>652</th>\n",
       "      <td>commit</td>\n",
       "      <td>https://github.com/repeatingbeats/dotfiles/com...</td>\n",
       "      <td>repeatingbeats</td>\n",
       "      <td>repeatingbeats/dotfiles</td>\n",
       "      <td>Shell</td>\n",
       "      <td>2d3c670da2bb2b743ae26f4668b0a460caa18c89</td>\n",
       "      <td>Started from scratch after running into issues...</td>\n",
       "      <td>2023-09-14T16:48:13.000-07:00</td>\n",
       "      <td>2023-09-14T16:48:13.000-07:00</td>\n",
       "      <td>1</td>\n",
       "      <td>...</td>\n",
       "      <td>True</td>\n",
       "      <td>1694735293</td>\n",
       "      <td>1694735293</td>\n",
       "      <td>1</td>\n",
       "      <td>True</td>\n",
       "      <td>0</td>\n",
       "      <td>True</td>\n",
       "      <td>NaN</td>\n",
       "      <td>NaN</td>\n",
       "      <td>NaN</td>\n",
       "    </tr>\n",
       "  </tbody>\n",
       "</table>\n",
       "<p>5 rows × 28 columns</p>\n",
       "</div>"
      ],
      "text/plain": [
       "       Type                                                URL  \\\n",
       "24   commit  https://github.com/bulatkhu/programmierung-und...   \n",
       "25   commit  https://github.com/bulatkhu/programmierung-und...   \n",
       "254  commit  https://github.com/Loknar/loka-ord/commit/cf96...   \n",
       "345  commit  https://github.com/tisztamo/Junior/commit/c3e5...   \n",
       "652  commit  https://github.com/repeatingbeats/dotfiles/com...   \n",
       "\n",
       "             Author                                         RepoName  \\\n",
       "24         bulatkhu  bulatkhu/programmierung-und-programmiersprachen   \n",
       "25         bulatkhu  bulatkhu/programmierung-und-programmiersprachen   \n",
       "254          Loknar                                  Loknar/loka-ord   \n",
       "345        tisztamo                                  tisztamo/Junior   \n",
       "652  repeatingbeats                          repeatingbeats/dotfiles   \n",
       "\n",
       "    RepoLanguage                                       Sha  \\\n",
       "24          Java  facee555ab88d879f6c2befd9bd5f2c1e77273f4   \n",
       "25          Java  d29fe195b73b947dfad6a8fb18e19e00e40ffe9d   \n",
       "254    Batchfile  cf961d60645026c1ae6cd623bc31a7395ac14305   \n",
       "345          CSS  c3e5995124f6e59735466a8cad1987a31a6ee6a4   \n",
       "652        Shell  2d3c670da2bb2b743ae26f4668b0a460caa18c89   \n",
       "\n",
       "                                               Message  \\\n",
       "24   added a custom task for Template-Pattern https...   \n",
       "25   added a custom task for Composite-Pattern:  Me...   \n",
       "254  chatgpt útbjó eitt orð í grunninn\\n\\nsjá https...   \n",
       "345  Echo '$\\n$\\n' to TerminalSummary on enter keyp...   \n",
       "652  Started from scratch after running into issues...   \n",
       "\n",
       "                          AuthorAt                       CommitAt  \\\n",
       "24   2023-09-18T16:51:14.000+02:00  2023-09-18T16:51:14.000+02:00   \n",
       "25   2023-09-18T13:23:30.000+02:00  2023-09-18T13:23:30.000+02:00   \n",
       "254       2023-06-10T14:16:16.000Z       2023-06-10T14:16:16.000Z   \n",
       "345  2023-10-02T14:07:21.000+02:00  2023-10-02T14:07:21.000+02:00   \n",
       "652  2023-09-14T16:48:13.000-07:00  2023-09-14T16:48:13.000-07:00   \n",
       "\n",
       "     NumberOfChatgptSharings  ...  Sha_is_valid  author_timestamp  \\\n",
       "24                         1  ...          True        1695048674   \n",
       "25                         1  ...          True        1695036210   \n",
       "254                        1  ...          True        1686406576   \n",
       "345                        1  ...          True        1696248441   \n",
       "652                        1  ...          True        1694735293   \n",
       "\n",
       "     committer_timestamp  n_parents  is_merged_HEAD  \\\n",
       "24            1695048674          1            True   \n",
       "25            1695036210          1            True   \n",
       "254           1686406576          1            True   \n",
       "345           1696248441          1            True   \n",
       "652           1694735293          1            True   \n",
       "\n",
       "     number_of_commits_from_HEAD  error  change_lines_survived  \\\n",
       "24                             8   True                    NaN   \n",
       "25                             9   True                    NaN   \n",
       "254                          234   True                    NaN   \n",
       "345                           93   True                    NaN   \n",
       "652                            0   True                    NaN   \n",
       "\n",
       "     change_lines_total  min_died_committer_timestamp  \n",
       "24                  NaN                           NaN  \n",
       "25                  NaN                           NaN  \n",
       "254                 NaN                           NaN  \n",
       "345                 NaN                           NaN  \n",
       "652                 NaN                           NaN  \n",
       "\n",
       "[5 rows x 28 columns]"
      ]
     },
     "execution_count": 7,
     "metadata": {},
     "output_type": "execute_result"
    }
   ],
   "source": [
    "commit_sharings_changes_survival_df[commit_sharings_changes_survival_df['error']==True]"
   ]
  },
  {
   "cell_type": "code",
   "execution_count": 8,
   "id": "609b0928",
   "metadata": {},
   "outputs": [
    {
     "data": {
      "text/html": [
       "<div>\n",
       "<style scoped>\n",
       "    .dataframe tbody tr th:only-of-type {\n",
       "        vertical-align: middle;\n",
       "    }\n",
       "\n",
       "    .dataframe tbody tr th {\n",
       "        vertical-align: top;\n",
       "    }\n",
       "\n",
       "    .dataframe thead th {\n",
       "        text-align: right;\n",
       "    }\n",
       "</style>\n",
       "<table border=\"1\" class=\"dataframe\">\n",
       "  <thead>\n",
       "    <tr style=\"text-align: right;\">\n",
       "      <th></th>\n",
       "      <th>Type</th>\n",
       "      <th>URL</th>\n",
       "      <th>Author</th>\n",
       "      <th>RepoName</th>\n",
       "      <th>RepoLanguage</th>\n",
       "      <th>Sha</th>\n",
       "      <th>Message</th>\n",
       "      <th>AuthorAt</th>\n",
       "      <th>CommitAt</th>\n",
       "      <th>NumberOfChatgptSharings</th>\n",
       "      <th>...</th>\n",
       "      <th>Sha_is_valid</th>\n",
       "      <th>author_timestamp</th>\n",
       "      <th>committer_timestamp</th>\n",
       "      <th>n_parents</th>\n",
       "      <th>is_merged_HEAD</th>\n",
       "      <th>number_of_commits_from_HEAD</th>\n",
       "      <th>error</th>\n",
       "      <th>change_lines_survived</th>\n",
       "      <th>change_lines_total</th>\n",
       "      <th>min_died_committer_timestamp</th>\n",
       "    </tr>\n",
       "  </thead>\n",
       "  <tbody>\n",
       "    <tr>\n",
       "      <th>24</th>\n",
       "      <td>commit</td>\n",
       "      <td>https://github.com/bulatkhu/programmierung-und...</td>\n",
       "      <td>bulatkhu</td>\n",
       "      <td>bulatkhu/programmierung-und-programmiersprachen</td>\n",
       "      <td>Java</td>\n",
       "      <td>facee555ab88d879f6c2befd9bd5f2c1e77273f4</td>\n",
       "      <td>added a custom task for Template-Pattern https...</td>\n",
       "      <td>2023-09-18T16:51:14.000+02:00</td>\n",
       "      <td>2023-09-18T16:51:14.000+02:00</td>\n",
       "      <td>1</td>\n",
       "      <td>...</td>\n",
       "      <td>True</td>\n",
       "      <td>1695048674</td>\n",
       "      <td>1695048674</td>\n",
       "      <td>1</td>\n",
       "      <td>True</td>\n",
       "      <td>8</td>\n",
       "      <td>True</td>\n",
       "      <td>NaN</td>\n",
       "      <td>NaN</td>\n",
       "      <td>NaN</td>\n",
       "    </tr>\n",
       "    <tr>\n",
       "      <th>25</th>\n",
       "      <td>commit</td>\n",
       "      <td>https://github.com/bulatkhu/programmierung-und...</td>\n",
       "      <td>bulatkhu</td>\n",
       "      <td>bulatkhu/programmierung-und-programmiersprachen</td>\n",
       "      <td>Java</td>\n",
       "      <td>d29fe195b73b947dfad6a8fb18e19e00e40ffe9d</td>\n",
       "      <td>added a custom task for Composite-Pattern:  Me...</td>\n",
       "      <td>2023-09-18T13:23:30.000+02:00</td>\n",
       "      <td>2023-09-18T13:23:30.000+02:00</td>\n",
       "      <td>1</td>\n",
       "      <td>...</td>\n",
       "      <td>True</td>\n",
       "      <td>1695036210</td>\n",
       "      <td>1695036210</td>\n",
       "      <td>1</td>\n",
       "      <td>True</td>\n",
       "      <td>9</td>\n",
       "      <td>True</td>\n",
       "      <td>NaN</td>\n",
       "      <td>NaN</td>\n",
       "      <td>NaN</td>\n",
       "    </tr>\n",
       "    <tr>\n",
       "      <th>254</th>\n",
       "      <td>commit</td>\n",
       "      <td>https://github.com/Loknar/loka-ord/commit/cf96...</td>\n",
       "      <td>Loknar</td>\n",
       "      <td>Loknar/loka-ord</td>\n",
       "      <td>Batchfile</td>\n",
       "      <td>cf961d60645026c1ae6cd623bc31a7395ac14305</td>\n",
       "      <td>chatgpt útbjó eitt orð í grunninn\\n\\nsjá https...</td>\n",
       "      <td>2023-06-10T14:16:16.000Z</td>\n",
       "      <td>2023-06-10T14:16:16.000Z</td>\n",
       "      <td>1</td>\n",
       "      <td>...</td>\n",
       "      <td>True</td>\n",
       "      <td>1686406576</td>\n",
       "      <td>1686406576</td>\n",
       "      <td>1</td>\n",
       "      <td>True</td>\n",
       "      <td>234</td>\n",
       "      <td>True</td>\n",
       "      <td>NaN</td>\n",
       "      <td>NaN</td>\n",
       "      <td>NaN</td>\n",
       "    </tr>\n",
       "    <tr>\n",
       "      <th>345</th>\n",
       "      <td>commit</td>\n",
       "      <td>https://github.com/tisztamo/Junior/commit/c3e5...</td>\n",
       "      <td>tisztamo</td>\n",
       "      <td>tisztamo/Junior</td>\n",
       "      <td>CSS</td>\n",
       "      <td>c3e5995124f6e59735466a8cad1987a31a6ee6a4</td>\n",
       "      <td>Echo '$\\n$\\n' to TerminalSummary on enter keyp...</td>\n",
       "      <td>2023-10-02T14:07:21.000+02:00</td>\n",
       "      <td>2023-10-02T14:07:21.000+02:00</td>\n",
       "      <td>1</td>\n",
       "      <td>...</td>\n",
       "      <td>True</td>\n",
       "      <td>1696248441</td>\n",
       "      <td>1696248441</td>\n",
       "      <td>1</td>\n",
       "      <td>True</td>\n",
       "      <td>93</td>\n",
       "      <td>True</td>\n",
       "      <td>NaN</td>\n",
       "      <td>NaN</td>\n",
       "      <td>NaN</td>\n",
       "    </tr>\n",
       "    <tr>\n",
       "      <th>652</th>\n",
       "      <td>commit</td>\n",
       "      <td>https://github.com/repeatingbeats/dotfiles/com...</td>\n",
       "      <td>repeatingbeats</td>\n",
       "      <td>repeatingbeats/dotfiles</td>\n",
       "      <td>Shell</td>\n",
       "      <td>2d3c670da2bb2b743ae26f4668b0a460caa18c89</td>\n",
       "      <td>Started from scratch after running into issues...</td>\n",
       "      <td>2023-09-14T16:48:13.000-07:00</td>\n",
       "      <td>2023-09-14T16:48:13.000-07:00</td>\n",
       "      <td>1</td>\n",
       "      <td>...</td>\n",
       "      <td>True</td>\n",
       "      <td>1694735293</td>\n",
       "      <td>1694735293</td>\n",
       "      <td>1</td>\n",
       "      <td>True</td>\n",
       "      <td>0</td>\n",
       "      <td>True</td>\n",
       "      <td>NaN</td>\n",
       "      <td>NaN</td>\n",
       "      <td>NaN</td>\n",
       "    </tr>\n",
       "  </tbody>\n",
       "</table>\n",
       "<p>5 rows × 28 columns</p>\n",
       "</div>"
      ],
      "text/plain": [
       "       Type                                                URL  \\\n",
       "24   commit  https://github.com/bulatkhu/programmierung-und...   \n",
       "25   commit  https://github.com/bulatkhu/programmierung-und...   \n",
       "254  commit  https://github.com/Loknar/loka-ord/commit/cf96...   \n",
       "345  commit  https://github.com/tisztamo/Junior/commit/c3e5...   \n",
       "652  commit  https://github.com/repeatingbeats/dotfiles/com...   \n",
       "\n",
       "             Author                                         RepoName  \\\n",
       "24         bulatkhu  bulatkhu/programmierung-und-programmiersprachen   \n",
       "25         bulatkhu  bulatkhu/programmierung-und-programmiersprachen   \n",
       "254          Loknar                                  Loknar/loka-ord   \n",
       "345        tisztamo                                  tisztamo/Junior   \n",
       "652  repeatingbeats                          repeatingbeats/dotfiles   \n",
       "\n",
       "    RepoLanguage                                       Sha  \\\n",
       "24          Java  facee555ab88d879f6c2befd9bd5f2c1e77273f4   \n",
       "25          Java  d29fe195b73b947dfad6a8fb18e19e00e40ffe9d   \n",
       "254    Batchfile  cf961d60645026c1ae6cd623bc31a7395ac14305   \n",
       "345          CSS  c3e5995124f6e59735466a8cad1987a31a6ee6a4   \n",
       "652        Shell  2d3c670da2bb2b743ae26f4668b0a460caa18c89   \n",
       "\n",
       "                                               Message  \\\n",
       "24   added a custom task for Template-Pattern https...   \n",
       "25   added a custom task for Composite-Pattern:  Me...   \n",
       "254  chatgpt útbjó eitt orð í grunninn\\n\\nsjá https...   \n",
       "345  Echo '$\\n$\\n' to TerminalSummary on enter keyp...   \n",
       "652  Started from scratch after running into issues...   \n",
       "\n",
       "                          AuthorAt                       CommitAt  \\\n",
       "24   2023-09-18T16:51:14.000+02:00  2023-09-18T16:51:14.000+02:00   \n",
       "25   2023-09-18T13:23:30.000+02:00  2023-09-18T13:23:30.000+02:00   \n",
       "254       2023-06-10T14:16:16.000Z       2023-06-10T14:16:16.000Z   \n",
       "345  2023-10-02T14:07:21.000+02:00  2023-10-02T14:07:21.000+02:00   \n",
       "652  2023-09-14T16:48:13.000-07:00  2023-09-14T16:48:13.000-07:00   \n",
       "\n",
       "     NumberOfChatgptSharings  ...  Sha_is_valid  author_timestamp  \\\n",
       "24                         1  ...          True        1695048674   \n",
       "25                         1  ...          True        1695036210   \n",
       "254                        1  ...          True        1686406576   \n",
       "345                        1  ...          True        1696248441   \n",
       "652                        1  ...          True        1694735293   \n",
       "\n",
       "     committer_timestamp  n_parents  is_merged_HEAD  \\\n",
       "24            1695048674          1            True   \n",
       "25            1695036210          1            True   \n",
       "254           1686406576          1            True   \n",
       "345           1696248441          1            True   \n",
       "652           1694735293          1            True   \n",
       "\n",
       "     number_of_commits_from_HEAD  error  change_lines_survived  \\\n",
       "24                             8   True                    NaN   \n",
       "25                             9   True                    NaN   \n",
       "254                          234   True                    NaN   \n",
       "345                           93   True                    NaN   \n",
       "652                            0   True                    NaN   \n",
       "\n",
       "     change_lines_total  min_died_committer_timestamp  \n",
       "24                  NaN                           NaN  \n",
       "25                  NaN                           NaN  \n",
       "254                 NaN                           NaN  \n",
       "345                 NaN                           NaN  \n",
       "652                 NaN                           NaN  \n",
       "\n",
       "[5 rows x 28 columns]"
      ]
     },
     "execution_count": 8,
     "metadata": {},
     "output_type": "execute_result"
    }
   ],
   "source": [
    "commit_sharings_changes_survival_df[commit_sharings_changes_survival_df['error']==True]"
   ]
  },
  {
   "cell_type": "code",
   "execution_count": 9,
   "id": "59ded889",
   "metadata": {},
   "outputs": [
    {
     "data": {
      "text/plain": [
       "(691, 28)"
      ]
     },
     "execution_count": 9,
     "metadata": {},
     "output_type": "execute_result"
    }
   ],
   "source": [
    "commit_sharings_changes_survival_df[commit_sharings_changes_survival_df['error']==False].shape"
   ]
  },
  {
   "cell_type": "code",
   "execution_count": 10,
   "id": "2a5564a5",
   "metadata": {},
   "outputs": [
    {
     "data": {
      "text/plain": [
       "(5, 28)"
      ]
     },
     "execution_count": 10,
     "metadata": {},
     "output_type": "execute_result"
    }
   ],
   "source": [
    "commit_sharings_changes_survival_df[commit_sharings_changes_survival_df['error']==True].shape"
   ]
  },
  {
   "cell_type": "code",
   "execution_count": 11,
   "id": "b1e650ba",
   "metadata": {},
   "outputs": [
    {
     "data": {
      "text/plain": [
       "(182, 46)"
      ]
     },
     "execution_count": 11,
     "metadata": {},
     "output_type": "execute_result"
    }
   ],
   "source": [
    "pr_sharings_changes_survival_df[pr_sharings_changes_survival_df['error']==False].shape"
   ]
  },
  {
   "cell_type": "code",
   "execution_count": 12,
   "id": "778b6e7d",
   "metadata": {},
   "outputs": [
    {
     "data": {
      "text/plain": [
       "(4, 46)"
      ]
     },
     "execution_count": 12,
     "metadata": {},
     "output_type": "execute_result"
    }
   ],
   "source": [
    "pr_sharings_changes_survival_df[pr_sharings_changes_survival_df['error']==True].shape"
   ]
  },
  {
   "cell_type": "code",
   "execution_count": 13,
   "id": "498d7cf8",
   "metadata": {},
   "outputs": [
    {
     "data": {
      "text/plain": [
       "(69, 42)"
      ]
     },
     "execution_count": 13,
     "metadata": {},
     "output_type": "execute_result"
    }
   ],
   "source": [
    "issue_sharings_changes_survival_df[issue_sharings_changes_survival_df['error']==False].shape"
   ]
  },
  {
   "cell_type": "code",
   "execution_count": 14,
   "id": "33d2b64b",
   "metadata": {},
   "outputs": [
    {
     "data": {
      "text/plain": [
       "(0, 42)"
      ]
     },
     "execution_count": 14,
     "metadata": {},
     "output_type": "execute_result"
    }
   ],
   "source": [
    "issue_sharings_changes_survival_df[issue_sharings_changes_survival_df['error']==True].shape"
   ]
  },
  {
   "cell_type": "code",
   "execution_count": 15,
   "id": "ee4f20de",
   "metadata": {},
   "outputs": [],
   "source": [
    "non_error_pr = pr_sharings_changes_survival_df[pr_sharings_changes_survival_df['error']==False]"
   ]
  },
  {
   "cell_type": "code",
   "execution_count": 16,
   "id": "7abce159",
   "metadata": {},
   "outputs": [],
   "source": [
    "non_error_issue = issue_sharings_changes_survival_df[issue_sharings_changes_survival_df['error']==False]"
   ]
  },
  {
   "cell_type": "code",
   "execution_count": 17,
   "id": "ccf3d95f",
   "metadata": {},
   "outputs": [],
   "source": [
    "non_error_commit = commit_sharings_changes_survival_df[commit_sharings_changes_survival_df['error']==False]"
   ]
  },
  {
   "cell_type": "code",
   "execution_count": 18,
   "id": "6249c079",
   "metadata": {},
   "outputs": [],
   "source": [
    "from scipy.stats import bootstrap"
   ]
  },
  {
   "cell_type": "code",
   "execution_count": 19,
   "id": "fe20ac6b",
   "metadata": {},
   "outputs": [],
   "source": [
    "import numpy as np"
   ]
  },
  {
   "cell_type": "code",
   "execution_count": 20,
   "id": "18a06610",
   "metadata": {},
   "outputs": [],
   "source": [
    "res = bootstrap((non_error_commit['TotalNumberOfPrompts'],), np.median, confidence_level=0.95, method='percentile')"
   ]
  },
  {
   "cell_type": "code",
   "execution_count": 21,
   "id": "ac73a58c",
   "metadata": {},
   "outputs": [
    {
     "data": {
      "text/plain": [
       "BootstrapResult(confidence_interval=ConfidenceInterval(low=1.0, high=1.0), bootstrap_distribution=array([2., 1., 1., ..., 1., 1., 1.]), standard_error=0.13898105746462538)"
      ]
     },
     "execution_count": 21,
     "metadata": {},
     "output_type": "execute_result"
    }
   ],
   "source": [
    "res"
   ]
  },
  {
   "cell_type": "code",
   "execution_count": 22,
   "id": "c5a7b5c7",
   "metadata": {},
   "outputs": [
    {
     "data": {
      "text/plain": [
       "ConfidenceInterval(low=1.0, high=1.0)"
      ]
     },
     "execution_count": 22,
     "metadata": {},
     "output_type": "execute_result"
    }
   ],
   "source": [
    "res.confidence_interval"
   ]
  },
  {
   "cell_type": "code",
   "execution_count": 23,
   "id": "d3709316",
   "metadata": {},
   "outputs": [],
   "source": [
    "def print_bootstrap_low_high(df, column):\n",
    "    low, high = bootstrap((df[column],), np.median, confidence_level=0.95, method='percentile').confidence_interval\n",
    "    print(column, round(low, 2), round(high, 2))"
   ]
  },
  {
   "cell_type": "code",
   "execution_count": 24,
   "id": "8fc9360a",
   "metadata": {},
   "outputs": [],
   "source": [
    "def print_low_high(df):\n",
    "    print_bootstrap_low_high(df, 'NumberOfConversations')\n",
    "    print_bootstrap_low_high(df, 'TotalNumberOfPrompts')\n",
    "    print_bootstrap_low_high(df, 'TotalTokensOfPrompts')\n",
    "    print_bootstrap_low_high(df, 'TotalTokensOfAnswers')"
   ]
  },
  {
   "cell_type": "code",
   "execution_count": 25,
   "id": "061fb77b",
   "metadata": {},
   "outputs": [
    {
     "name": "stdout",
     "output_type": "stream",
     "text": [
      "NumberOfConversations 1.0 1.0\n",
      "TotalNumberOfPrompts 1.0 1.0\n",
      "TotalTokensOfPrompts 673.0 735.0\n",
      "TotalTokensOfAnswers 486.0 557.0\n"
     ]
    }
   ],
   "source": [
    "print_low_high(non_error_commit)"
   ]
  },
  {
   "cell_type": "code",
   "execution_count": 26,
   "id": "940a1996",
   "metadata": {},
   "outputs": [
    {
     "name": "stdout",
     "output_type": "stream",
     "text": [
      "NumberOfConversations 1.0 2.0\n",
      "TotalNumberOfPrompts 2.0 2.0\n",
      "TotalTokensOfPrompts 92.5 234.5\n",
      "TotalTokensOfAnswers 431.5 600.0\n"
     ]
    }
   ],
   "source": [
    "print_low_high(non_error_pr)"
   ]
  },
  {
   "cell_type": "code",
   "execution_count": 27,
   "id": "90884c87",
   "metadata": {},
   "outputs": [
    {
     "name": "stdout",
     "output_type": "stream",
     "text": [
      "NumberOfConversations 1.0 2.0\n",
      "TotalNumberOfPrompts 2.0 3.0\n",
      "TotalTokensOfPrompts 92.0 264.0\n",
      "TotalTokensOfAnswers 461.0 757.0\n"
     ]
    }
   ],
   "source": [
    "print_low_high(non_error_issue)"
   ]
  }
 ],
 "metadata": {
  "kernelspec": {
   "display_name": "Python 3 (ipykernel)",
   "language": "python",
   "name": "python3"
  },
  "language_info": {
   "codemirror_mode": {
    "name": "ipython",
    "version": 3
   },
   "file_extension": ".py",
   "mimetype": "text/x-python",
   "name": "python",
   "nbconvert_exporter": "python",
   "pygments_lexer": "ipython3",
   "version": "3.10.12"
  }
 },
 "nbformat": 4,
 "nbformat_minor": 5
}
